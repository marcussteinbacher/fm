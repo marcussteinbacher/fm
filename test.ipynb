{
 "cells": [
  {
   "cell_type": "code",
   "execution_count": 1,
   "id": "39339a74-d858-4506-addd-b668e9e925d0",
   "metadata": {},
   "outputs": [
    {
     "name": "stdout",
     "output_type": "stream",
     "text": [
      "01/06,01/12  ->  ['AS-JUN', 'AS-DEC']\n",
      "nan  ->  []\n",
      "nan  ->  []\n",
      "nan  ->  []\n",
      "nan  ->  []\n",
      "01/06,01/12  ->  ['AS-JUN', 'AS-DEC']\n",
      "01/06,01/12  ->  ['AS-JUN', 'AS-DEC']\n",
      "01/06,01/12  ->  ['AS-JUN', 'AS-DEC']\n",
      "01/06,01/12  ->  ['AS-JUN', 'AS-DEC']\n",
      "01/06,01/12  ->  ['AS-JUN', 'AS-DEC']\n",
      "nan  ->  []\n",
      "nan  ->  []\n",
      "nan  ->  []\n",
      "nan  ->  []\n",
      "nan  ->  []\n",
      "nan  ->  []\n",
      "01/06,01/12  ->  ['AS-JUN', 'AS-DEC']\n",
      "01/06,01/12  ->  ['AS-JUN', 'AS-DEC']\n",
      "01/06,01/12  ->  ['AS-JUN', 'AS-DEC']\n",
      "01/06,01/12  ->  ['AS-JUN', 'AS-DEC']\n",
      "01/06,01/12  ->  ['AS-JUN', 'AS-DEC']\n",
      "01/06,01/12  ->  ['AS-JUN', 'AS-DEC']\n",
      "01/06,01/12  ->  ['AS-JUN', 'AS-DEC']\n",
      "01/06,01/12  ->  ['AS-JUN', 'AS-DEC']\n",
      "01/06,01/12  ->  ['AS-JUN', 'AS-DEC']\n",
      "01/06,01/12  ->  ['AS-JUN', 'AS-DEC']\n",
      "01/05,01/11  ->  ['AS-MAY', 'AS-NOV']\n",
      "01/06,01/12  ->  ['AS-JUN', 'AS-DEC']\n",
      "01/05,01/11  ->  ['AS-MAY', 'AS-NOV']\n",
      "01/05,01/11  ->  ['AS-MAY', 'AS-NOV']\n",
      "01/06,01/12  ->  ['AS-JUN', 'AS-DEC']\n",
      "01/06,01/12  ->  ['AS-JUN', 'AS-DEC']\n",
      "01/06,01/12  ->  ['AS-JUN', 'AS-DEC']\n",
      "01/06,01/12  ->  ['AS-JUN', 'AS-DEC']\n",
      "01/05,01/11  ->  ['AS-MAY', 'AS-NOV']\n",
      "01/06,01/12  ->  ['AS-JUN', 'AS-DEC']\n"
     ]
    }
   ],
   "source": [
    "import pandas as pd\n",
    "import numpy as np\n",
    "from datasets import df_info\n",
    "\n",
    "def parse_coupon_dates(s:str,format=\"%d/%m\",sep=\",\")->str:\n",
    "    vals = [\"JAN\",\"FEB\",\"MAR\",\"APR\",\"MAY\",\"JUN\",\"JUL\",\"AUG\",\"SEP\",\"OCT\",\"NOV\",\"DEC\"]\n",
    "    trans_dict = {k:v for k,v in enumerate(vals,start=1)}\n",
    "    months = []\n",
    "    if s and type(s)==str: #wenn leer, dann ist np.nan, aber bool(np.nan) = True\n",
    "        for cp_dt in s.split(sep):\n",
    "            ts = pd.to_datetime(cp_dt,format=format)\n",
    "            months.append(\"AS-\"+trans_dict[ts.month])\n",
    "    return months\n",
    "\n",
    "vals = df_info.loc[:,\"COUPON DATES\"].values\n",
    "for val in vals:\n",
    "     print(val,\" -> \", parse_coupon_dates(val))"
   ]
  },
  {
   "cell_type": "code",
   "execution_count": 3,
   "id": "c5724a68-9f0d-4b72-943c-4e3bf43b678d",
   "metadata": {},
   "outputs": [
    {
     "data": {
      "text/html": [
       "<div>\n",
       "<style scoped>\n",
       "    .dataframe tbody tr th:only-of-type {\n",
       "        vertical-align: middle;\n",
       "    }\n",
       "\n",
       "    .dataframe tbody tr th {\n",
       "        vertical-align: top;\n",
       "    }\n",
       "\n",
       "    .dataframe thead th {\n",
       "        text-align: right;\n",
       "    }\n",
       "</style>\n",
       "<table border=\"1\" class=\"dataframe\">\n",
       "  <thead>\n",
       "    <tr style=\"text-align: right;\">\n",
       "      <th></th>\n",
       "      <th>NAME</th>\n",
       "      <th>ISSUE DATE</th>\n",
       "    </tr>\n",
       "    <tr>\n",
       "      <th>Type</th>\n",
       "      <th></th>\n",
       "      <th></th>\n",
       "    </tr>\n",
       "  </thead>\n",
       "  <tbody>\n",
       "    <tr>\n",
       "      <th>597973</th>\n",
       "      <td>CANADA 1991 4 1/4% 01/12/21 INDXLK.</td>\n",
       "      <td>1991-12-10 00:00:00</td>\n",
       "    </tr>\n",
       "    <tr>\n",
       "      <th>5771H1</th>\n",
       "      <td>CANADA 1993 PKG. STRIP 01/12/21 INDXLK.</td>\n",
       "      <td>1993-06-01 00:00:00</td>\n",
       "    </tr>\n",
       "    <tr>\n",
       "      <th>491970</th>\n",
       "      <td>CANADA 1993 CPN. STRIP 01/12/21 INDXLK.</td>\n",
       "      <td>1993-09-02 00:00:00</td>\n",
       "    </tr>\n",
       "    <tr>\n",
       "      <th>49197U</th>\n",
       "      <td>CANADA 1993 CPN. STRIP 01/12/19 INDXLK.</td>\n",
       "      <td>1993-09-02 00:00:00</td>\n",
       "    </tr>\n",
       "    <tr>\n",
       "      <th>49197V</th>\n",
       "      <td>CANADA 1993 CPN. STRIP 01/06/20 INDXLK.</td>\n",
       "      <td>1993-09-02 00:00:00</td>\n",
       "    </tr>\n",
       "    <tr>\n",
       "      <th>846111</th>\n",
       "      <td>CANADA 1995 4 1/4% 01/12/26 INDXLK.</td>\n",
       "      <td>1995-12-07 00:00:00</td>\n",
       "    </tr>\n",
       "    <tr>\n",
       "      <th>610286</th>\n",
       "      <td>CANADA 1999 4% 01/12/31 INDXLK.</td>\n",
       "      <td>1999-03-08 00:00:00</td>\n",
       "    </tr>\n",
       "    <tr>\n",
       "      <th>248402</th>\n",
       "      <td>CANADA 2003 3% 01/12/36 INDXLK.</td>\n",
       "      <td>2003-06-09 00:00:00</td>\n",
       "    </tr>\n",
       "    <tr>\n",
       "      <th>491986</th>\n",
       "      <td>CANADA 2004 CPN. STRIP 01/12/21 INDXLK.</td>\n",
       "      <td>2004-02-24 00:00:00</td>\n",
       "    </tr>\n",
       "    <tr>\n",
       "      <th>491989</th>\n",
       "      <td>CANADA 2004 CPN. STRIP 01/06/23 INDXLK.</td>\n",
       "      <td>2004-02-24 00:00:00</td>\n",
       "    </tr>\n",
       "    <tr>\n",
       "      <th>491988</th>\n",
       "      <td>CANADA 2004 CPN. STRIP 01/12/22 INDXLK.</td>\n",
       "      <td>2004-02-24 00:00:00</td>\n",
       "    </tr>\n",
       "    <tr>\n",
       "      <th>491985</th>\n",
       "      <td>CANADA 2004 CPN. STRIP 01/06/21 INDXLK.</td>\n",
       "      <td>2004-02-24 00:00:00</td>\n",
       "    </tr>\n",
       "    <tr>\n",
       "      <th>49199C</th>\n",
       "      <td>CANADA 2004 CPN. STRIP 01/12/23 INDXLK.</td>\n",
       "      <td>2004-02-24 00:00:00</td>\n",
       "    </tr>\n",
       "    <tr>\n",
       "      <th>491987</th>\n",
       "      <td>CANADA 2004 CPN. STRIP 01/06/22 INDXLK.</td>\n",
       "      <td>2004-02-24 00:00:00</td>\n",
       "    </tr>\n",
       "    <tr>\n",
       "      <th>97059Q</th>\n",
       "      <td>CANADA 2007 2% 01/12/41 INDXLK.</td>\n",
       "      <td>2007-06-04 00:00:00</td>\n",
       "    </tr>\n",
       "    <tr>\n",
       "      <th>5653HV</th>\n",
       "      <td>CANADA 2010 1 1/2% 01/12/44 INDXLK.</td>\n",
       "      <td>2010-05-31 00:00:00</td>\n",
       "    </tr>\n",
       "    <tr>\n",
       "      <th>787NK8</th>\n",
       "      <td>CANADA 2013 1 1/4% 01/12/47 INDXLK.</td>\n",
       "      <td>2013-12-02 00:00:00</td>\n",
       "    </tr>\n",
       "    <tr>\n",
       "      <th>849UMH</th>\n",
       "      <td>CANADA 2017 1/2% 01/12/50 INDXLK.</td>\n",
       "      <td>2017-06-05 00:00:00</td>\n",
       "    </tr>\n",
       "    <tr>\n",
       "      <th>645HW9</th>\n",
       "      <td>CANADA 2021 1/4% 01/12/54 INDXLK.</td>\n",
       "      <td>2021-06-04 00:00:00</td>\n",
       "    </tr>\n",
       "  </tbody>\n",
       "</table>\n",
       "</div>"
      ],
      "text/plain": [
       "                                           NAME           ISSUE DATE\n",
       "Type                                                                \n",
       "597973      CANADA 1991 4 1/4% 01/12/21 INDXLK.  1991-12-10 00:00:00\n",
       "5771H1  CANADA 1993 PKG. STRIP 01/12/21 INDXLK.  1993-06-01 00:00:00\n",
       "491970  CANADA 1993 CPN. STRIP 01/12/21 INDXLK.  1993-09-02 00:00:00\n",
       "49197U  CANADA 1993 CPN. STRIP 01/12/19 INDXLK.  1993-09-02 00:00:00\n",
       "49197V  CANADA 1993 CPN. STRIP 01/06/20 INDXLK.  1993-09-02 00:00:00\n",
       "846111      CANADA 1995 4 1/4% 01/12/26 INDXLK.  1995-12-07 00:00:00\n",
       "610286          CANADA 1999 4% 01/12/31 INDXLK.  1999-03-08 00:00:00\n",
       "248402          CANADA 2003 3% 01/12/36 INDXLK.  2003-06-09 00:00:00\n",
       "491986  CANADA 2004 CPN. STRIP 01/12/21 INDXLK.  2004-02-24 00:00:00\n",
       "491989  CANADA 2004 CPN. STRIP 01/06/23 INDXLK.  2004-02-24 00:00:00\n",
       "491988  CANADA 2004 CPN. STRIP 01/12/22 INDXLK.  2004-02-24 00:00:00\n",
       "491985  CANADA 2004 CPN. STRIP 01/06/21 INDXLK.  2004-02-24 00:00:00\n",
       "49199C  CANADA 2004 CPN. STRIP 01/12/23 INDXLK.  2004-02-24 00:00:00\n",
       "491987  CANADA 2004 CPN. STRIP 01/06/22 INDXLK.  2004-02-24 00:00:00\n",
       "97059Q          CANADA 2007 2% 01/12/41 INDXLK.  2007-06-04 00:00:00\n",
       "5653HV      CANADA 2010 1 1/2% 01/12/44 INDXLK.  2010-05-31 00:00:00\n",
       "787NK8      CANADA 2013 1 1/4% 01/12/47 INDXLK.  2013-12-02 00:00:00\n",
       "849UMH        CANADA 2017 1/2% 01/12/50 INDXLK.  2017-06-05 00:00:00\n",
       "645HW9        CANADA 2021 1/4% 01/12/54 INDXLK.  2021-06-04 00:00:00"
      ]
     },
     "execution_count": 3,
     "metadata": {},
     "output_type": "execute_result"
    }
   ],
   "source": [
    "df_info.loc[df_info[\"TYPE\"]==\"ILB\",[\"NAME\",\"ISSUE DATE\"]]"
   ]
  },
  {
   "cell_type": "code",
   "execution_count": 1,
   "id": "e229a216-0492-4268-83d7-72374fb610c5",
   "metadata": {},
   "outputs": [
    {
     "data": {
      "text/plain": [
       "REF_DATE\n",
       "1991-01-01     82.0\n",
       "1991-02-01     82.0\n",
       "1991-03-01     82.3\n",
       "1991-04-01     82.3\n",
       "1991-05-01     82.7\n",
       "              ...  \n",
       "2023-05-01    157.0\n",
       "2023-06-01    157.2\n",
       "2023-07-01    158.1\n",
       "2023-08-01    158.7\n",
       "2023-09-01    158.5\n",
       "Name: VALUE, Length: 393, dtype: float64"
      ]
     },
     "execution_count": 1,
     "metadata": {},
     "output_type": "execute_result"
    }
   ],
   "source": [
    "from cpi import RefCPI\n",
    "\n",
    "cpi = RefCPI()\n",
    "cpi.series"
   ]
  },
  {
   "cell_type": "code",
   "execution_count": 7,
   "id": "4b1b6de4-d09e-43ad-a7a1-795d4e5bba4a",
   "metadata": {},
   "outputs": [
    {
     "data": {
      "text/plain": [
       "<Axes: xlabel='REF_DATE'>"
      ]
     },
     "execution_count": 7,
     "metadata": {},
     "output_type": "execute_result"
    },
    {
     "data": {
      "image/png": "[encoded data removed]",
      "text/plain": [
       "<Figure size 640x480 with 1 Axes>"
      ]
     },
     "metadata": {},
     "output_type": "display_data"
    }
   ],
   "source": [
    "cpi.series.loc[\"2020-07-01\":\"2023-09-01\"].pct_change().plot()"
   ]
  },
  {
   "cell_type": "code",
   "execution_count": 13,
   "id": "b7ff7973-8f56-41a9-a7c7-b478076bab44",
   "metadata": {},
   "outputs": [
    {
     "data": {
      "text/plain": [
       "<Axes: xlabel='date'>"
      ]
     },
     "execution_count": 13,
     "metadata": {},
     "output_type": "execute_result"
    },
    {
     "data": {
      "image/png": "[encoded data removed]",
      "text/plain": [
       "<Figure size 640x480 with 1 Axes>"
      ]
     },
     "metadata": {},
     "output_type": "display_data"
    }
   ],
   "source": [
    "import pandas as pd\n",
    "df_cpi_pct = pd.read_csv(\"data/inflation_indicators.csv\",index_col=\"date\")\n",
    "df_cpi_pct.plot()"
   ]
  },
  {
   "cell_type": "code",
   "execution_count": 35,
   "id": "623ce9bc-412d-437c-912c-4d6c59571afa",
   "metadata": {},
   "outputs": [
    {
     "name": "stderr",
     "output_type": "stream",
     "text": [
      "  0%|                                                                                                                                  | 0/27 [00:00<?, ?it/s]"
     ]
    },
    {
     "name": "stdout",
     "output_type": "stream",
     "text": [
      "EVALUATING: 597973\n",
      "597973 :  2021-11-29 :  Failed to converge after 50 iterations, value is 6.942429510285882e+42.\n",
      "597973 :  2021-11-30 :  Failed to converge after 50 iterations, value is 2.794406556474315e+71.\n",
      "597973 :  2021-12-01 :  Tolerance of 0.0001 reached. Failed to converge after 1 iterations, value is 0.0001.\n"
     ]
    },
    {
     "name": "stderr",
     "output_type": "stream",
     "text": [
      "  4%|████▌                                                                                                                     | 1/27 [01:26<37:30, 86.54s/it]"
     ]
    },
    {
     "name": "stdout",
     "output_type": "stream",
     "text": [
      "597973 :  2021-11-29 :  Failed to converge after 50 iterations, value is 6.942429510285882e+42.\n",
      "597973 :  2021-11-30 :  Failed to converge after 50 iterations, value is 2.794406556474315e+71.\n",
      "597973 :  2021-12-01 :  Tolerance of 0.0001 reached. Failed to converge after 1 iterations, value is 0.0001.\n",
      "EVALUATING: 49197V\n",
      "49197V :  2020-06-01 :  Tolerance of 0.0001 reached. Failed to converge after 1 iterations, value is 0.0001.\n"
     ]
    },
    {
     "name": "stderr",
     "output_type": "stream",
     "text": [
      "  7%|█████████                                                                                                                 | 2/27 [01:43<19:07, 45.89s/it]"
     ]
    },
    {
     "name": "stdout",
     "output_type": "stream",
     "text": [
      "49197V :  2020-06-01 :  Tolerance of 0.0001 reached. Failed to converge after 1 iterations, value is 0.0001.\n",
      "EVALUATING: 491985\n",
      "491985 :  2021-05-31 :  Failed to converge after 50 iterations, value is 7.643863247076988e+47.\n",
      "491985 :  2021-06-01 :  Tolerance of 0.0001 reached. Failed to converge after 1 iterations, value is 0.0001.\n"
     ]
    },
    {
     "name": "stderr",
     "output_type": "stream",
     "text": [
      " 11%|█████████████▌                                                                                                            | 3/27 [02:11<14:57, 37.38s/it]"
     ]
    },
    {
     "name": "stdout",
     "output_type": "stream",
     "text": [
      "491985 :  2021-05-31 :  Failed to converge after 50 iterations, value is 7.643863247076988e+47.\n",
      "491985 :  2021-06-01 :  Tolerance of 0.0001 reached. Failed to converge after 1 iterations, value is 0.0001.\n",
      "EVALUATING: 491987\n",
      "491987 :  2022-05-31 :  Failed to converge after 50 iterations, value is 3.861060618166953e+54.\n",
      "491987 :  2022-06-01 :  Tolerance of 0.0001 reached. Failed to converge after 1 iterations, value is 0.0001.\n"
     ]
    },
    {
     "name": "stderr",
     "output_type": "stream",
     "text": [
      " 15%|██████████████████                                                                                                        | 4/27 [02:39<12:57, 33.79s/it]"
     ]
    },
    {
     "name": "stdout",
     "output_type": "stream",
     "text": [
      "491987 :  2022-05-31 :  Failed to converge after 50 iterations, value is 3.861060618166953e+54.\n",
      "491987 :  2022-06-01 :  Tolerance of 0.0001 reached. Failed to converge after 1 iterations, value is 0.0001.\n",
      "EVALUATING: 491989\n",
      "491989 :  2023-05-31 :  Failed to converge after 50 iterations, value is 3.0352575243824747e+62.\n",
      "491989 :  2023-06-01 :  Tolerance of 0.0001 reached. Failed to converge after 1 iterations, value is 0.0001.\n"
     ]
    },
    {
     "name": "stderr",
     "output_type": "stream",
     "text": [
      " 19%|██████████████████████▌                                                                                                   | 5/27 [03:10<11:57, 32.63s/it]"
     ]
    },
    {
     "name": "stdout",
     "output_type": "stream",
     "text": [
      "491989 :  2023-05-31 :  Failed to converge after 50 iterations, value is 3.0352575243824747e+62.\n",
      "491989 :  2023-06-01 :  Tolerance of 0.0001 reached. Failed to converge after 1 iterations, value is 0.0001.\n",
      "EVALUATING: 49197U\n"
     ]
    },
    {
     "name": "stderr",
     "output_type": "stream",
     "text": [
      " 22%|███████████████████████████                                                                                               | 6/27 [03:33<10:21, 29.61s/it]"
     ]
    },
    {
     "name": "stdout",
     "output_type": "stream",
     "text": [
      "EVALUATING: 491986\n",
      "491986 :  2021-11-30 :  Failed to converge after 50 iterations, value is 4.3162985907174586e+51.\n",
      "491986 :  2021-12-01 :  Tolerance of 0.0001 reached. Failed to converge after 1 iterations, value is 0.0001.\n"
     ]
    },
    {
     "name": "stderr",
     "output_type": "stream",
     "text": [
      " 26%|███████████████████████████████▋                                                                                          | 7/27 [03:59<09:29, 28.45s/it]"
     ]
    },
    {
     "name": "stdout",
     "output_type": "stream",
     "text": [
      "491986 :  2021-11-30 :  Failed to converge after 50 iterations, value is 4.3162985907174586e+51.\n",
      "491986 :  2021-12-01 :  Tolerance of 0.0001 reached. Failed to converge after 1 iterations, value is 0.0001.\n",
      "EVALUATING: 491970\n",
      "491970 :  2021-11-30 :  Failed to converge after 50 iterations, value is 3.5071013922812576e+70.\n",
      "491970 :  2021-12-01 :  Tolerance of 0.0001 reached. Failed to converge after 1 iterations, value is 0.0001.\n"
     ]
    },
    {
     "name": "stderr",
     "output_type": "stream",
     "text": [
      " 30%|████████████████████████████████████▏                                                                                     | 8/27 [04:27<08:58, 28.34s/it]"
     ]
    },
    {
     "name": "stdout",
     "output_type": "stream",
     "text": [
      "491970 :  2021-11-30 :  Failed to converge after 50 iterations, value is 3.5071013922812576e+70.\n",
      "491970 :  2021-12-01 :  Tolerance of 0.0001 reached. Failed to converge after 1 iterations, value is 0.0001.\n",
      "EVALUATING: 491988\n",
      "491988 :  2022-11-30 :  Failed to converge after 50 iterations, value is 5.8497321337335036e+60.\n",
      "491988 :  2022-12-01 :  Tolerance of 0.0001 reached. Failed to converge after 1 iterations, value is 0.0001.\n"
     ]
    },
    {
     "name": "stderr",
     "output_type": "stream",
     "text": [
      " 33%|████████████████████████████████████████▋                                                                                 | 9/27 [05:02<09:02, 30.14s/it]"
     ]
    },
    {
     "name": "stdout",
     "output_type": "stream",
     "text": [
      "491988 :  2022-11-30 :  Failed to converge after 50 iterations, value is 5.8497321337335036e+60.\n",
      "491988 :  2022-12-01 :  Tolerance of 0.0001 reached. Failed to converge after 1 iterations, value is 0.0001.\n",
      "EVALUATING: 5771H1\n",
      "5771H1 :  2021-11-29 :  Failed to converge after 50 iterations, value is 5.298662378626234e+47.\n",
      "5771H1 :  2021-11-30 :  Failed to converge after 50 iterations, value is 1.753347148893134e+74.\n",
      "5771H1 :  2021-12-01 :  Tolerance of 0.0001 reached. Failed to converge after 1 iterations, value is 0.0001.\n"
     ]
    },
    {
     "name": "stderr",
     "output_type": "stream",
     "text": [
      " 37%|████████████████████████████████████████████▊                                                                            | 10/27 [05:22<07:43, 27.26s/it]"
     ]
    },
    {
     "name": "stdout",
     "output_type": "stream",
     "text": [
      "5771H1 :  2021-11-29 :  Failed to converge after 50 iterations, value is 5.298662378626234e+47.\n",
      "5771H1 :  2021-11-30 :  Failed to converge after 50 iterations, value is 1.753347148893134e+74.\n",
      "5771H1 :  2021-12-01 :  Tolerance of 0.0001 reached. Failed to converge after 1 iterations, value is 0.0001.\n",
      "EVALUATING: 846564\n"
     ]
    },
    {
     "name": "stderr",
     "output_type": "stream",
     "text": [
      " 41%|█████████████████████████████████████████████████▎                                                                       | 11/27 [08:49<21:55, 82.21s/it]"
     ]
    },
    {
     "name": "stdout",
     "output_type": "stream",
     "text": [
      "EVALUATING: 610451\n"
     ]
    },
    {
     "name": "stderr",
     "output_type": "stream",
     "text": [
      " 44%|█████████████████████████████████████████████████████▎                                                                  | 12/27 [13:30<35:38, 142.59s/it]"
     ]
    },
    {
     "name": "stdout",
     "output_type": "stream",
     "text": [
      "EVALUATING: 46269V\n"
     ]
    },
    {
     "name": "stderr",
     "output_type": "stream",
     "text": [
      " 48%|█████████████████████████████████████████████████████████▊                                                              | 13/27 [16:39<36:31, 156.54s/it]"
     ]
    },
    {
     "name": "stdout",
     "output_type": "stream",
     "text": [
      "EVALUATING: 2180M7\n"
     ]
    },
    {
     "name": "stderr",
     "output_type": "stream",
     "text": [
      " 52%|██████████████████████████████████████████████████████████████▏                                                         | 14/27 [19:05<33:15, 153.51s/it]"
     ]
    },
    {
     "name": "stdout",
     "output_type": "stream",
     "text": [
      "EVALUATING: 6487P3\n"
     ]
    },
    {
     "name": "stderr",
     "output_type": "stream",
     "text": [
      " 56%|██████████████████████████████████████████████████████████████████▋                                                     | 15/27 [21:18<29:26, 147.22s/it]"
     ]
    },
    {
     "name": "stdout",
     "output_type": "stream",
     "text": [
      "EVALUATING: 794D5D\n"
     ]
    },
    {
     "name": "stderr",
     "output_type": "stream",
     "text": [
      " 59%|███████████████████████████████████████████████████████████████████████                                                 | 16/27 [23:06<24:51, 135.63s/it]"
     ]
    },
    {
     "name": "stdout",
     "output_type": "stream",
     "text": [
      "EVALUATING: 860K02\n"
     ]
    },
    {
     "name": "stderr",
     "output_type": "stream",
     "text": [
      " 63%|███████████████████████████████████████████████████████████████████████████▌                                            | 17/27 [24:10<18:59, 113.99s/it]"
     ]
    },
    {
     "name": "stdout",
     "output_type": "stream",
     "text": [
      "EVALUATING: 650WAD\n"
     ]
    },
    {
     "name": "stderr",
     "output_type": "stream",
     "text": [
      " 67%|████████████████████████████████████████████████████████████████████████████████▋                                        | 18/27 [24:37<13:09, 87.70s/it]"
     ]
    },
    {
     "name": "stdout",
     "output_type": "stream",
     "text": [
      "EVALUATING: 658V0W\n"
     ]
    },
    {
     "name": "stderr",
     "output_type": "stream",
     "text": [
      " 70%|█████████████████████████████████████████████████████████████████████████████████████▏                                   | 19/27 [24:50<08:44, 65.54s/it]"
     ]
    },
    {
     "name": "stdout",
     "output_type": "stream",
     "text": [
      "EVALUATING: 651FLY\n",
      "651FLY :  2023-01-11 :  Tolerance of 0.0001 reached. Failed to converge after 1 iterations, value is 0.0001.\n"
     ]
    },
    {
     "name": "stderr",
     "output_type": "stream",
     "text": [
      " 74%|█████████████████████████████████████████████████████████████████████████████████████████▋                               | 20/27 [24:58<05:36, 48.10s/it]"
     ]
    },
    {
     "name": "stdout",
     "output_type": "stream",
     "text": [
      "651FLY :  2023-01-11 :  Tolerance of 0.0001 reached. Failed to converge after 1 iterations, value is 0.0001.\n",
      "EVALUATING: 3925TN\n"
     ]
    },
    {
     "name": "stderr",
     "output_type": "stream",
     "text": [
      " 78%|██████████████████████████████████████████████████████████████████████████████████████████████                           | 21/27 [26:26<06:00, 60.01s/it]"
     ]
    },
    {
     "name": "stdout",
     "output_type": "stream",
     "text": [
      "EVALUATING: 5694XD\n"
     ]
    },
    {
     "name": "stderr",
     "output_type": "stream",
     "text": [
      " 81%|██████████████████████████████████████████████████████████████████████████████████████████████████▌                      | 22/27 [27:44<05:27, 65.56s/it]"
     ]
    },
    {
     "name": "stdout",
     "output_type": "stream",
     "text": [
      "EVALUATING: 6561K8\n"
     ]
    },
    {
     "name": "stderr",
     "output_type": "stream",
     "text": [
      " 85%|███████████████████████████████████████████████████████████████████████████████████████████████████████                  | 23/27 [29:00<04:34, 68.59s/it]"
     ]
    },
    {
     "name": "stdout",
     "output_type": "stream",
     "text": [
      "EVALUATING: 8118P5\n"
     ]
    },
    {
     "name": "stderr",
     "output_type": "stream",
     "text": [
      " 89%|███████████████████████████████████████████████████████████████████████████████████████████████████████████▌             | 24/27 [30:37<03:50, 76.99s/it]"
     ]
    },
    {
     "name": "stdout",
     "output_type": "stream",
     "text": [
      "EVALUATING: 853J3Z\n",
      "853J3Z :  2019-01-11 :  Tolerance of 0.0001 reached. Failed to converge after 1 iterations, value is 0.0001.\n"
     ]
    },
    {
     "name": "stderr",
     "output_type": "stream",
     "text": [
      " 93%|████████████████████████████████████████████████████████████████████████████████████████████████████████████████         | 25/27 [30:52<01:56, 58.41s/it]"
     ]
    },
    {
     "name": "stdout",
     "output_type": "stream",
     "text": [
      "853J3Z :  2019-01-11 :  Tolerance of 0.0001 reached. Failed to converge after 1 iterations, value is 0.0001.\n",
      "EVALUATING: 2360RY\n"
     ]
    },
    {
     "name": "stderr",
     "output_type": "stream",
     "text": [
      "/home/marcus/fm/bond.py:125: RuntimeWarning: invalid value encountered in scalar power\n",
      "  s += cf/(1+r)**(dd/days_in_year)\n"
     ]
    },
    {
     "name": "stdout",
     "output_type": "stream",
     "text": [
      "2360RY :  2021-01-07 :  Failed to converge after 50 iterations, value is nan.\n"
     ]
    },
    {
     "name": "stderr",
     "output_type": "stream",
     "text": [
      "/home/marcus/fm/bond.py:125: RuntimeWarning: invalid value encountered in scalar power\n",
      "  s += cf/(1+r)**(dd/days_in_year)\n"
     ]
    },
    {
     "name": "stdout",
     "output_type": "stream",
     "text": [
      "2360RY :  2021-01-08 :  Failed to converge after 50 iterations, value is nan.\n",
      "2360RY :  2021-01-11 :  Tolerance of 0.0001 reached. Failed to converge after 1 iterations, value is 0.0001.\n"
     ]
    },
    {
     "name": "stderr",
     "output_type": "stream",
     "text": [
      "/home/marcus/fm/bond.py:125: RuntimeWarning: invalid value encountered in scalar power\n",
      "  s += cf/(1+r)**(dd/days_in_year)\n",
      "/home/marcus/fm/bond.py:125: RuntimeWarning: invalid value encountered in scalar power\n",
      "  s += cf/(1+r)**(dd/days_in_year)\n",
      " 96%|████████████████████████████████████████████████████████████████████████████████████████████████████████████████████▌    | 26/27 [31:12<00:46, 46.92s/it]"
     ]
    },
    {
     "name": "stdout",
     "output_type": "stream",
     "text": [
      "2360RY :  2021-01-07 :  Failed to converge after 50 iterations, value is nan.\n",
      "2360RY :  2021-01-08 :  Failed to converge after 50 iterations, value is nan.\n",
      "2360RY :  2021-01-11 :  Tolerance of 0.0001 reached. Failed to converge after 1 iterations, value is 0.0001.\n",
      "EVALUATING: 615GG0\n",
      "615GG0 :  2022-01-11 :  Tolerance of 0.0001 reached. Failed to converge after 1 iterations, value is 0.0001.\n"
     ]
    },
    {
     "name": "stderr",
     "output_type": "stream",
     "text": [
      "100%|█████████████████████████████████████████████████████████████████████████████████████████████████████████████████████████| 27/27 [31:19<00:00, 69.61s/it]"
     ]
    },
    {
     "name": "stdout",
     "output_type": "stream",
     "text": [
      "615GG0 :  2022-01-11 :  Tolerance of 0.0001 reached. Failed to converge after 1 iterations, value is 0.0001.\n"
     ]
    },
    {
     "name": "stderr",
     "output_type": "stream",
     "text": [
      "\n"
     ]
    }
   ],
   "source": [
    "import pandas as pd\n",
    "from tqdm import tqdm\n",
    "from bond  import Bond,ILB\n",
    "import pickle\n",
    "\n",
    "with pd.ExcelFile(\"data/can.xlsx\") as xls:\n",
    "    df_prices = pd.read_excel(xls,\"Price\",index_col=0,parse_dates=True)\n",
    "    df_prices.columns = df_prices.columns.map(str)\n",
    "\n",
    "with pd.ExcelFile(\"data/can.xlsx\") as xls:\n",
    "    df_info = pd.read_excel(xls,\"Info\",index_col=0,dtype={\"COUPON DATE\":str,\"ISSUE DATE\":str,\"REDEMPTION DATE\":str,'START YEAR':str,'MATURITY YEAR':str})\n",
    "    df_info.index = df_info.index.map(str)\n",
    "    df_info.loc[:,\"ISSUE DATE\"] = df_info.loc[:,\"ISSUE DATE\"].map(pd.Timestamp)\n",
    "    df_info.loc[:,\"REDEMPTION DATE\"] = df_info.loc[:,\"REDEMPTION DATE\"].map(pd.Timestamp)\n",
    "\n",
    "all_bonds = df_info.index\n",
    "ilbs = df_info[df_info[\"TYPE\"]==\"ILB\"].index #nur vom typ ilb\n",
    "noms = df_info[df_info[\"TYPE\"]==\"NOM\"].index\n",
    "\n",
    "bond_objs = []\n",
    "for bond in all_bonds:\n",
    "    name = df_info.loc[bond,\"NAME\"]\n",
    "    issue_date = df_info.loc[bond,\"ISSUE DATE\"]\n",
    "    redem_date = df_info.loc[bond,\"REDEMPTION DATE\"]\n",
    "    prices = df_prices[bond]\n",
    "    coupon_dates = Bond.parse_coupon_dates(df_info.loc[bond,\"COUPON DATES\"])\n",
    "\n",
    "    if df_info.loc[bond,\"TYPE\"] == \"ILB\":\n",
    "        coupon = df_info.loc[bond,\"INDEX LINKED COUP\"]\n",
    "        ilb = ILB(issue_date,redem_date,coupon,coupon_freq=coupon_dates,id=bond,prices=prices,name=name)\n",
    "        if ilb.redem_date < ilb.max_poss_redem_date: #nur dann kann der historische cashflow und damit ytm berechnet werden\n",
    "            bond_objs.append(ilb)\n",
    "    else:\n",
    "        coupon = df_info.loc[bond,\"COUPON\"]\n",
    "        bond_objs.append(Bond(issue_date,redem_date,coupon,coupon_freq=coupon_dates,id=bond,prices=prices,name=name))\n",
    "\"\"\"\n",
    "df = pd.DataFrame() #holds only date|YTMs for every bond -> csv\n",
    "data = {} #holds yield curve dataframe date|price|TTM|YTM für jeden bond\n",
    "for bond in tqdm(bond_objs):\n",
    "     print(\"EVALUATING:\", bond.id)\n",
    "     yc = bond.yield_curve()\n",
    "     data[bond.id] = bond.yield_curve()\n",
    "     df[bond.id] = yc[\"YTM\"]\n",
    "\"\"\""
   ]
  },
  {
   "cell_type": "code",
   "execution_count": 36,
   "id": "761335c9-274e-4853-aa85-1824deeec538",
   "metadata": {},
   "outputs": [],
   "source": [
    "with open(\"export/ytm_dataframes.pickle\",\"wb\") as f:\n",
    "    pickle.dump(data,f)\n",
    "\n",
    "df.to_csv(\"export/ytms.csv\")"
   ]
  },
  {
   "cell_type": "code",
   "execution_count": 81,
   "id": "3e761d7a-648b-4dc2-9d84-baadd53eb0ca",
   "metadata": {},
   "outputs": [
    {
     "data": {
      "application/vnd.jupyter.widget-view+json": {
       "model_id": "9438de56202b406b9850922bf8a960e6",
       "version_major": 2,
       "version_minor": 0
      },
      "text/plain": [
       "Dropdown(description='Bond', options=('597973', '49197V', '491985', '491987', '491989', '49197U', '491986', '4…"
      ]
     },
     "metadata": {},
     "output_type": "display_data"
    },
    {
     "data": {
      "application/vnd.jupyter.widget-view+json": {
       "model_id": "416290e0f9aa40e2a33848d12aa4bc47",
       "version_major": 2,
       "version_minor": 0
      },
      "text/plain": [
       "Checkbox(value=False, description='log')"
      ]
     },
     "metadata": {},
     "output_type": "display_data"
    },
    {
     "data": {
      "application/vnd.jupyter.widget-view+json": {
       "model_id": "92a0bd1d3231433191a3e852d9c8a0ac",
       "version_major": 2,
       "version_minor": 0
      },
      "text/plain": [
       "Output()"
      ]
     },
     "metadata": {},
     "output_type": "display_data"
    }
   ],
   "source": [
    "import ipywidgets as widgets\n",
    "dd = widgets.Dropdown(options=df.columns,description=\"Bond\")\n",
    "log_chk = widgets.Checkbox(description=\"log\")\n",
    "\n",
    "def plot_ytm(bond:str,log:bool):\n",
    "    fig, ax = plt.subplots()\n",
    "    df_b = df[[bond]].dropna()\n",
    "    df_b[\"redem_date\"] = df_b.index.max()\n",
    "    df_b[\"TTM\"] = df_b[\"redem_date\"] - df_b.index\n",
    "    df_b[\"TTM\"] = df_b[\"TTM\"].map(lambda d: d.days)/365\n",
    "    sns.lineplot(data=df_b,x=\"TTM\",y=bond)\n",
    "    if log:\n",
    "        plt.yscale(\"log\")\n",
    "    plt.show()\n",
    "    display(df_info.loc[bond,:])\n",
    "out = widgets.interactive_output(plot_ytm, {\"bond\":dd,\"log\":log_chk})\n",
    "display(dd,log_chk,out)"
   ]
  },
  {
   "cell_type": "code",
   "execution_count": 26,
   "id": "99aa72d2-0fac-4bcf-aa7d-320022698d39",
   "metadata": {},
   "outputs": [
    {
     "name": "stdout",
     "output_type": "stream",
     "text": [
      "49197V :  2020-06-01 :  Tolerance of 0.0001 reached. Failed to converge after 1 iterations, value is 0.0001.\n"
     ]
    }
   ],
   "source": [
    "yc1 = bond_objs[1].yield_curve()"
   ]
  },
  {
   "cell_type": "code",
   "execution_count": 25,
   "id": "7110c915-77af-49f0-beb6-3775100ff082",
   "metadata": {},
   "outputs": [
    {
     "data": {
      "image/png": "[encoded data removed]",
      "text/plain": [
       "<Figure size 640x480 with 2 Axes>"
      ]
     },
     "metadata": {},
     "output_type": "display_data"
    }
   ],
   "source": [
    "import seaborn as sns\n",
    "import matplotlib.pyplot as plt\n",
    "sns.set()\n",
    "x = yc.loc[:,\"TTM\"].values\n",
    "y = yc.loc[:,\"YTM\"].values\n",
    "p = yc.loc[:,\"P\"].values\n",
    "plt.plot(x,y)\n",
    "plt.yscale(\"log\")\n",
    "plt.twinx()\n",
    "plt.plot(x,p,color=\"orange\")\n",
    "plt.show()"
   ]
  },
  {
   "cell_type": "code",
   "execution_count": 30,
   "id": "2d8e6bc0-5f8d-4780-8311-db14da790614",
   "metadata": {},
   "outputs": [],
   "source": [
    "df = pd.DataFrame()\n",
    "df[\"bond0\"] = yc[\"YTM\"]\n",
    "df[\"bond1\"] = yc1[\"YTM\"]"
   ]
  },
  {
   "cell_type": "code",
   "execution_count": 33,
   "id": "d732fa0f-882d-42bb-8ed4-377f444c3883",
   "metadata": {},
   "outputs": [
    {
     "name": "stderr",
     "output_type": "stream",
     "text": [
      "/home/marcus/miniconda3/envs/fm/lib/python3.12/site-packages/matplotlib/axis.py:1769: FutureWarning: Period with BDay freq is deprecated and will be removed in a future version. Use a DatetimeIndex with BDay freq instead.\n",
      "  ret = self.converter.convert(x, self.units, self)\n",
      "/home/marcus/miniconda3/envs/fm/lib/python3.12/site-packages/matplotlib/axis.py:1769: FutureWarning: PeriodDtype[B] is deprecated and will be removed in a future version. Use a DatetimeIndex with freq='B' instead\n",
      "  ret = self.converter.convert(x, self.units, self)\n",
      "/home/marcus/miniconda3/envs/fm/lib/python3.12/site-packages/matplotlib/axis.py:1769: FutureWarning: PeriodDtype[B] is deprecated and will be removed in a future version. Use a DatetimeIndex with freq='B' instead\n",
      "  ret = self.converter.convert(x, self.units, self)\n",
      "/home/marcus/miniconda3/envs/fm/lib/python3.12/site-packages/matplotlib/axis.py:1495: FutureWarning: Period with BDay freq is deprecated and will be removed in a future version. Use a DatetimeIndex with BDay freq instead.\n",
      "  return self.major.locator()\n",
      "/home/marcus/miniconda3/envs/fm/lib/python3.12/site-packages/matplotlib/axis.py:1495: FutureWarning: PeriodDtype[B] is deprecated and will be removed in a future version. Use a DatetimeIndex with freq='B' instead\n",
      "  return self.major.locator()\n",
      "/home/marcus/miniconda3/envs/fm/lib/python3.12/site-packages/matplotlib/ticker.py:216: FutureWarning: Period with BDay freq is deprecated and will be removed in a future version. Use a DatetimeIndex with BDay freq instead.\n",
      "  return [self(value, i) for i, value in enumerate(values)]\n"
     ]
    },
    {
     "data": {
      "image/png": "[encoded data removed]",
      "text/plain": [
       "<Figure size 640x480 with 1 Axes>"
      ]
     },
     "metadata": {},
     "output_type": "display_data"
    }
   ],
   "source": [
    "df.plot.line()\n",
    "plt.yscale(\"log\")"
   ]
  },
  {
   "cell_type": "code",
   "execution_count": 20,
   "id": "b31b24b0-5296-41cb-bf14-4953cdcce1f8",
   "metadata": {},
   "outputs": [],
   "source": [
    "import pickle\n",
    "\n",
    "with open(\"export/ytm_dataframes.pickle\",\"rb\") as f:\n",
    "    data = pickle.load(f)\n",
    "\n",
    "dfs = []\n",
    "for b,bdf in data.items():\n",
    "    bdf[b] = bdf[\"YTM\"]\n",
    "    dfs.append(bdf[b])\n",
    "ytms = pd.concat(dfs,axis=1)"
   ]
  },
  {
   "cell_type": "code",
   "execution_count": 22,
   "id": "5861553f-9548-42a1-9568-196bb5bbec62",
   "metadata": {},
   "outputs": [],
   "source": [
    "ytms.to_csv(\"export/ytms.csv\")"
   ]
  },
  {
   "cell_type": "markdown",
   "id": "b4cd6669-f225-493c-8cd2-e7aa5076537a",
   "metadata": {},
   "source": [
    "# Cashflows\n",
    "Can only compare already matured ILBs - otherwise we can't calculate an index ratio"
   ]
  },
  {
   "cell_type": "code",
   "execution_count": 1,
   "id": "032494aa-fc19-49c3-a7fe-ee2c5b5c3775",
   "metadata": {},
   "outputs": [],
   "source": [
    "import ipywidgets as widgets\n",
    "import matplotlib.pyplot as plt\n",
    "import matplotlib.patches as mpatches\n",
    "import random\n",
    "import pandas as pd\n",
    "import seaborn as sns\n",
    "\n",
    "sns.set_theme()\n",
    "\n",
    "from bond import Bond, ILB\n",
    "from datasets import df_info, df_prices\n",
    "\n",
    "\n",
    "def possible_dates(bond_id):\n",
    "    return df_prices.loc[:,bond_id].dropna().index\n",
    "\n",
    "def plot_cashflows(bond_id:str,eval_date:str,cp_only:bool):\n",
    "    issue_date = df_info.loc[bond_id,\"ISSUE DATE\"]\n",
    "    redem_date = df_info.loc[bond_id,\"REDEMPTION DATE\"]\n",
    "    coupon = df_info.loc[bond_id,\"INDEX LINKED COUP\"]\n",
    "    coupon_freq = Bond.parse_coupon_dates(df_info.loc[bond_id,\"COUPON DATES\"])\n",
    "    name = df_info.loc[bond_id,\"NAME\"]\n",
    "    \n",
    "    \n",
    "    nominal_bond = Bond(issue_date,redem_date,coupon,coupon_freq=coupon_freq,id=bond_id,name=name)\n",
    "    ilb_bond = ILB(issue_date,redem_date,coupon,coupon_freq=coupon_freq,id=bond_id,name=name)\n",
    "\n",
    "    nominal_bond.prices = df_prices.loc[:,bond_id]\n",
    "    ilb_bond.prices = df_prices.loc[:,bond_id]\n",
    "    \n",
    "    #eval_date = pd.Timestamp(eval_date)\n",
    "    eval_price = nominal_bond.prices.loc[eval_date]\n",
    "\n",
    "    nominal_bond.cashflows(eval_date,eval_price,dirty=False)\n",
    "    ilb_bond.cashflows(eval_date,eval_price,dirty=False)\n",
    "    \n",
    "    nom_acc = Bond(issue_date,redem_date,coupon,coupon_freq=coupon_freq,id=bond_id,name=name)\n",
    "    nom_acc.cashflows(eval_date,eval_price,dirty=True)\n",
    "\n",
    "    real_acc = ILB(issue_date,redem_date,coupon,coupon_freq=coupon_freq,id=bond_id,name=name)\n",
    "    real_acc.cashflows(eval_date,eval_price,dirty=True)\n",
    "\n",
    "    df_nom = nominal_bond._df_cfs\n",
    "    df_nom.loc[eval_date,\"Accrued Interest\"] = -nom_acc.accrued_interest\n",
    "\n",
    "    df_real = ilb_bond._df_cfs\n",
    "    df_real.loc[eval_date,\"Accrued Interest\"] = -real_acc.accrued_interest\n",
    "    \n",
    "    #print(df_nom)\n",
    "    #print(df_real)\n",
    "\n",
    "    fig, ax = plt.subplots()\n",
    "\n",
    "    if cp_only:\n",
    "        df_real[[\"Coupon\"]].plot.bar(stacked=True,ax=ax,position=-0.5,width=0.25,color=sns.color_palette(palette=\"pastel\")[1])\n",
    "        df_nom[[\"Coupon\"]].plot.bar(stacked=True,ax=ax,position=0.5,width=0.25,color=sns.color_palette(palette=\"dark\")[1])\n",
    "    else:\n",
    "        df_real.plot(kind=\"bar\",stacked=True,ax=ax,position=-0.5,width=0.25,color=sns.color_palette(palette=\"pastel\"))\n",
    "        df_nom.plot(kind=\"bar\",stacked=True,ax=ax,position=0.5,width=0.25,color=sns.color_palette(palette=\"dark\"))  \n",
    "\n",
    "\n",
    "    plt.legend([mpatches.Patch(color=\"dimgrey\"),mpatches.Patch(color=\"silver\")],[\"Nominal\",\"Real\"])\n",
    "    plt.show()"
   ]
  },
  {
   "cell_type": "code",
   "execution_count": 2,
   "id": "6164f2b5-8c15-443e-92cb-ee69b2f51ba5",
   "metadata": {},
   "outputs": [
    {
     "data": {
      "application/vnd.jupyter.widget-view+json": {
       "model_id": "9dcbe8af37554eb893c3b7cd71bfa846",
       "version_major": 2,
       "version_minor": 0
      },
      "text/plain": [
       "interactive(children=(Dropdown(description='ILB', options=(('CANADA 1991 4 1/4% 01/12/21 INDXLK.', '597973'), …"
      ]
     },
     "metadata": {},
     "output_type": "display_data"
    },
    {
     "data": {
      "text/plain": [
       "<function __main__.plot_cashflows(bond_id: str, eval_date: str, cp_only: bool)>"
      ]
     },
     "execution_count": 2,
     "metadata": {},
     "output_type": "execute_result"
    }
   ],
   "source": [
    "ilbs = df_info[(df_info[\"TYPE\"]==\"ILB\")&(df_info[\"REDEMPTION DATE\"]<pd.Timestamp(\"2023-12-31\"))].index\n",
    "ilb_dropdown = widgets.Dropdown(options=[(lbl,val) for lbl,val in zip(df_info.loc[ilbs,\"NAME\"].values,ilbs)],description=\"ILB\")\n",
    "possible_dates_slider = widgets.SelectionSlider(options=possible_dates(ilb_dropdown.value),description=\"Evaluation Date\",continuous_updates=False)\n",
    "possible_dates_slider.value = random.choice(possible_dates(ilb_dropdown.value))\n",
    "cp_only_check = widgets.Checkbox(value=False,description=\"Coupons only\")\n",
    "\n",
    "\n",
    "def handle_change(change):\n",
    "    possible_dates_slider.options = possible_dates(change[\"new\"])\n",
    "    possible_dates_slider.value = random.choice(possible_dates(change[\"new\"]))\n",
    "    print(change[\"new\"])\n",
    "    \n",
    "ilb_dropdown.observe(handle_change,names=\"value\")\n",
    "\n",
    "widgets.interact(plot_cashflows,bond_id=ilb_dropdown,cp_only=cp_only_check,eval_date=possible_dates_slider)\n",
    "\n",
    "#display(ilb_dropdown,possible_dates_slider,dirty_check,out)"
   ]
  },
  {
   "cell_type": "code",
   "execution_count": 3,
   "id": "a0c1d0d0-11c9-464d-939f-4fcfb6512d26",
   "metadata": {},
   "outputs": [
    {
     "data": {
      "text/plain": [
       "2009-07-30    128.730\n",
       "2009-07-31    130.290\n",
       "2009-08-03    130.630\n",
       "2009-08-04    129.220\n",
       "2009-08-05    128.500\n",
       "               ...   \n",
       "2021-11-25    100.029\n",
       "2021-11-26    100.012\n",
       "2021-11-29    100.012\n",
       "2021-11-30    100.012\n",
       "2021-12-01    100.012\n",
       "Name: 597973, Length: 3220, dtype: float64"
      ]
     },
     "execution_count": 3,
     "metadata": {},
     "output_type": "execute_result"
    }
   ],
   "source": [
    "df_prices.loc[:,ilb_dropdown.value].dropna()"
   ]
  },
  {
   "cell_type": "code",
   "execution_count": 1,
   "id": "85969dff-0ca2-429c-8d86-e37ec909df6d",
   "metadata": {},
   "outputs": [],
   "source": [
    "import seaborn as sns"
   ]
  },
  {
   "cell_type": "code",
   "execution_count": 9,
   "id": "719b298a-1d76-48d4-877a-99b43246b2d3",
   "metadata": {},
   "outputs": [
    {
     "data": {
      "text/html": [
       "<svg  width=\"550\" height=\"55\"><rect x=\"0\" y=\"0\" width=\"55\" height=\"55\" style=\"fill:#001c7f;stroke-width:2;stroke:rgb(255,255,255)\"/><rect x=\"55\" y=\"0\" width=\"55\" height=\"55\" style=\"fill:#b1400d;stroke-width:2;stroke:rgb(255,255,255)\"/><rect x=\"110\" y=\"0\" width=\"55\" height=\"55\" style=\"fill:#12711c;stroke-width:2;stroke:rgb(255,255,255)\"/><rect x=\"165\" y=\"0\" width=\"55\" height=\"55\" style=\"fill:#8c0800;stroke-width:2;stroke:rgb(255,255,255)\"/><rect x=\"220\" y=\"0\" width=\"55\" height=\"55\" style=\"fill:#591e71;stroke-width:2;stroke:rgb(255,255,255)\"/><rect x=\"275\" y=\"0\" width=\"55\" height=\"55\" style=\"fill:#592f0d;stroke-width:2;stroke:rgb(255,255,255)\"/><rect x=\"330\" y=\"0\" width=\"55\" height=\"55\" style=\"fill:#a23582;stroke-width:2;stroke:rgb(255,255,255)\"/><rect x=\"385\" y=\"0\" width=\"55\" height=\"55\" style=\"fill:#3c3c3c;stroke-width:2;stroke:rgb(255,255,255)\"/><rect x=\"440\" y=\"0\" width=\"55\" height=\"55\" style=\"fill:#b8850a;stroke-width:2;stroke:rgb(255,255,255)\"/><rect x=\"495\" y=\"0\" width=\"55\" height=\"55\" style=\"fill:#006374;stroke-width:2;stroke:rgb(255,255,255)\"/></svg>"
      ],
      "text/plain": [
       "[(0.0, 0.10980392156862745, 0.4980392156862745),\n",
       " (0.6941176470588235, 0.25098039215686274, 0.050980392156862744),\n",
       " (0.07058823529411765, 0.44313725490196076, 0.10980392156862745),\n",
       " (0.5490196078431373, 0.03137254901960784, 0.0),\n",
       " (0.34901960784313724, 0.11764705882352941, 0.44313725490196076),\n",
       " (0.34901960784313724, 0.1843137254901961, 0.050980392156862744),\n",
       " (0.6352941176470588, 0.20784313725490197, 0.5098039215686274),\n",
       " (0.23529411764705882, 0.23529411764705882, 0.23529411764705882),\n",
       " (0.7215686274509804, 0.5215686274509804, 0.0392156862745098),\n",
       " (0.0, 0.38823529411764707, 0.4549019607843137)]"
      ]
     },
     "metadata": {},
     "output_type": "display_data"
    },
    {
     "data": {
      "text/html": [
       "<svg  width=\"550\" height=\"55\"><rect x=\"0\" y=\"0\" width=\"55\" height=\"55\" style=\"fill:#a1c9f4;stroke-width:2;stroke:rgb(255,255,255)\"/><rect x=\"55\" y=\"0\" width=\"55\" height=\"55\" style=\"fill:#ffb482;stroke-width:2;stroke:rgb(255,255,255)\"/><rect x=\"110\" y=\"0\" width=\"55\" height=\"55\" style=\"fill:#8de5a1;stroke-width:2;stroke:rgb(255,255,255)\"/><rect x=\"165\" y=\"0\" width=\"55\" height=\"55\" style=\"fill:#ff9f9b;stroke-width:2;stroke:rgb(255,255,255)\"/><rect x=\"220\" y=\"0\" width=\"55\" height=\"55\" style=\"fill:#d0bbff;stroke-width:2;stroke:rgb(255,255,255)\"/><rect x=\"275\" y=\"0\" width=\"55\" height=\"55\" style=\"fill:#debb9b;stroke-width:2;stroke:rgb(255,255,255)\"/><rect x=\"330\" y=\"0\" width=\"55\" height=\"55\" style=\"fill:#fab0e4;stroke-width:2;stroke:rgb(255,255,255)\"/><rect x=\"385\" y=\"0\" width=\"55\" height=\"55\" style=\"fill:#cfcfcf;stroke-width:2;stroke:rgb(255,255,255)\"/><rect x=\"440\" y=\"0\" width=\"55\" height=\"55\" style=\"fill:#fffea3;stroke-width:2;stroke:rgb(255,255,255)\"/><rect x=\"495\" y=\"0\" width=\"55\" height=\"55\" style=\"fill:#b9f2f0;stroke-width:2;stroke:rgb(255,255,255)\"/></svg>"
      ],
      "text/plain": [
       "[(0.6313725490196078, 0.788235294117647, 0.9568627450980393),\n",
       " (1.0, 0.7058823529411765, 0.5098039215686274),\n",
       " (0.5529411764705883, 0.8980392156862745, 0.6313725490196078),\n",
       " (1.0, 0.6235294117647059, 0.6078431372549019),\n",
       " (0.8156862745098039, 0.7333333333333333, 1.0),\n",
       " (0.8705882352941177, 0.7333333333333333, 0.6078431372549019),\n",
       " (0.9803921568627451, 0.6901960784313725, 0.8941176470588236),\n",
       " (0.8117647058823529, 0.8117647058823529, 0.8117647058823529),\n",
       " (1.0, 0.996078431372549, 0.6392156862745098),\n",
       " (0.7254901960784313, 0.9490196078431372, 0.9411764705882353)]"
      ]
     },
     "metadata": {},
     "output_type": "display_data"
    }
   ],
   "source": [
    "display(sns.palettes.color_palette(\"dark\"))\n",
    "display(sns.palettes.color_palette(\"pastel\"))"
   ]
  },
  {
   "cell_type": "markdown",
   "id": "3d30b5a5-aaee-4d81-b5fc-aa14e4a3c917",
   "metadata": {},
   "source": [
    "# Aggregation"
   ]
  },
  {
   "cell_type": "code",
   "execution_count": 7,
   "id": "3e1f335a-8fa1-49dc-b69d-81a8834129fb",
   "metadata": {},
   "outputs": [],
   "source": [
    "import pandas as pd\n",
    "import string\n",
    "import random\n",
    "import numpy as np\n",
    "\n",
    "n=10\n",
    "data = [[name, val] for name,val in zip(random.choices(string.ascii_uppercase,k=n),np.random.randint(1,high=30,size=n))]"
   ]
  },
  {
   "cell_type": "code",
   "execution_count": 32,
   "id": "ef5a8eaf-5e83-4966-8bba-c07b63a8d45d",
   "metadata": {},
   "outputs": [
    {
     "data": {
      "text/html": [
       "<div>\n",
       "<style scoped>\n",
       "    .dataframe tbody tr th:only-of-type {\n",
       "        vertical-align: middle;\n",
       "    }\n",
       "\n",
       "    .dataframe tbody tr th {\n",
       "        vertical-align: top;\n",
       "    }\n",
       "\n",
       "    .dataframe thead th {\n",
       "        text-align: right;\n",
       "    }\n",
       "</style>\n",
       "<table border=\"1\" class=\"dataframe\">\n",
       "  <thead>\n",
       "    <tr style=\"text-align: right;\">\n",
       "      <th></th>\n",
       "      <th>name</th>\n",
       "      <th>duration</th>\n",
       "      <th>value</th>\n",
       "    </tr>\n",
       "    <tr>\n",
       "      <th>id</th>\n",
       "      <th></th>\n",
       "      <th></th>\n",
       "      <th></th>\n",
       "    </tr>\n",
       "  </thead>\n",
       "  <tbody>\n",
       "    <tr>\n",
       "      <th>0</th>\n",
       "      <td>E</td>\n",
       "      <td>15</td>\n",
       "      <td>0.459622</td>\n",
       "    </tr>\n",
       "    <tr>\n",
       "      <th>1</th>\n",
       "      <td>A</td>\n",
       "      <td>29</td>\n",
       "      <td>0.483179</td>\n",
       "    </tr>\n",
       "    <tr>\n",
       "      <th>2</th>\n",
       "      <td>C</td>\n",
       "      <td>19</td>\n",
       "      <td>0.224332</td>\n",
       "    </tr>\n",
       "    <tr>\n",
       "      <th>3</th>\n",
       "      <td>R</td>\n",
       "      <td>3</td>\n",
       "      <td>0.761833</td>\n",
       "    </tr>\n",
       "    <tr>\n",
       "      <th>4</th>\n",
       "      <td>W</td>\n",
       "      <td>12</td>\n",
       "      <td>0.768689</td>\n",
       "    </tr>\n",
       "    <tr>\n",
       "      <th>5</th>\n",
       "      <td>B</td>\n",
       "      <td>5</td>\n",
       "      <td>0.690771</td>\n",
       "    </tr>\n",
       "    <tr>\n",
       "      <th>6</th>\n",
       "      <td>A</td>\n",
       "      <td>16</td>\n",
       "      <td>0.731145</td>\n",
       "    </tr>\n",
       "    <tr>\n",
       "      <th>7</th>\n",
       "      <td>L</td>\n",
       "      <td>18</td>\n",
       "      <td>0.824094</td>\n",
       "    </tr>\n",
       "    <tr>\n",
       "      <th>8</th>\n",
       "      <td>O</td>\n",
       "      <td>18</td>\n",
       "      <td>0.027110</td>\n",
       "    </tr>\n",
       "    <tr>\n",
       "      <th>9</th>\n",
       "      <td>V</td>\n",
       "      <td>4</td>\n",
       "      <td>0.709464</td>\n",
       "    </tr>\n",
       "  </tbody>\n",
       "</table>\n",
       "</div>"
      ],
      "text/plain": [
       "   name  duration     value\n",
       "id                         \n",
       "0     E        15  0.459622\n",
       "1     A        29  0.483179\n",
       "2     C        19  0.224332\n",
       "3     R         3  0.761833\n",
       "4     W        12  0.768689\n",
       "5     B         5  0.690771\n",
       "6     A        16  0.731145\n",
       "7     L        18  0.824094\n",
       "8     O        18  0.027110\n",
       "9     V         4  0.709464"
      ]
     },
     "execution_count": 32,
     "metadata": {},
     "output_type": "execute_result"
    }
   ],
   "source": [
    "df = pd.DataFrame(data,columns=[\"name\",\"duration\"])\n",
    "df.index.name = \"id\"\n",
    "df[\"value\"] = np.random.random(size=n)\n",
    "df"
   ]
  },
  {
   "cell_type": "code",
   "execution_count": 38,
   "id": "8f64f282-2b21-4729-ae48-75dc1737f771",
   "metadata": {},
   "outputs": [],
   "source": [
    "\n",
    "classes = {\"0-3y\":(0,3),\"3-5y\":(3,5),\"5-10y\":(5,10),\"10-20y\":(10,20),\"20y+\":(20,np.inf)}\n",
    "def get_class(x):\n",
    "    \"\"\"\n",
    "    lower boundary exclusive, upper boundary inclusive\n",
    "    \"\"\"\n",
    "    for key, interval in classes.items():\n",
    "        if interval[0] < x <= interval[1]:\n",
    "            return key"
   ]
  },
  {
   "cell_type": "code",
   "execution_count": 39,
   "id": "e21fe21e-f9a2-40c7-a205-6c6c1f03250c",
   "metadata": {},
   "outputs": [],
   "source": [
    "df[\"class\"] = df[\"duration\"].map(get_class)"
   ]
  },
  {
   "cell_type": "code",
   "execution_count": 2,
   "id": "f06e32f0-033b-4122-b6a6-936a8675cbb7",
   "metadata": {},
   "outputs": [
    {
     "data": {
      "text/html": [
       "<div>\n",
       "<style scoped>\n",
       "    .dataframe tbody tr th:only-of-type {\n",
       "        vertical-align: middle;\n",
       "    }\n",
       "\n",
       "    .dataframe tbody tr th {\n",
       "        vertical-align: top;\n",
       "    }\n",
       "\n",
       "    .dataframe thead th {\n",
       "        text-align: right;\n",
       "    }\n",
       "</style>\n",
       "<table border=\"1\" class=\"dataframe\">\n",
       "  <thead>\n",
       "    <tr style=\"text-align: right;\">\n",
       "      <th></th>\n",
       "      <th>ISIN CODE</th>\n",
       "      <th>NAME</th>\n",
       "      <th>COUPON</th>\n",
       "      <th>AMOUNT ISSUED</th>\n",
       "      <th>COUPON DATES</th>\n",
       "      <th>INDEX LINKED COUP</th>\n",
       "      <th>COUPONS PER YEAR</th>\n",
       "      <th>1ST COUPON VALUE</th>\n",
       "      <th>OTHER YIELD</th>\n",
       "      <th>RED. YIELD</th>\n",
       "      <th>CURRENCY</th>\n",
       "      <th>ISSUE DATE</th>\n",
       "      <th>MATURITY YEAR</th>\n",
       "      <th>START YEAR</th>\n",
       "      <th>ACTIVE</th>\n",
       "      <th>REDEMPTION DATE</th>\n",
       "      <th>REF CPI BASE</th>\n",
       "      <th>TYPE</th>\n",
       "      <th>DURATION</th>\n",
       "      <th>CLASS</th>\n",
       "    </tr>\n",
       "    <tr>\n",
       "      <th>Type</th>\n",
       "      <th></th>\n",
       "      <th></th>\n",
       "      <th></th>\n",
       "      <th></th>\n",
       "      <th></th>\n",
       "      <th></th>\n",
       "      <th></th>\n",
       "      <th></th>\n",
       "      <th></th>\n",
       "      <th></th>\n",
       "      <th></th>\n",
       "      <th></th>\n",
       "      <th></th>\n",
       "      <th></th>\n",
       "      <th></th>\n",
       "      <th></th>\n",
       "      <th></th>\n",
       "      <th></th>\n",
       "      <th></th>\n",
       "      <th></th>\n",
       "    </tr>\n",
       "  </thead>\n",
       "  <tbody>\n",
       "    <tr>\n",
       "      <th>597973</th>\n",
       "      <td>CA135087UL60</td>\n",
       "      <td>CANADA 1991 4 1/4% 01/12/21 INDXLK.</td>\n",
       "      <td>7.3104</td>\n",
       "      <td>5175000.0</td>\n",
       "      <td>01/06,01/12</td>\n",
       "      <td>4.25</td>\n",
       "      <td>2</td>\n",
       "      <td>2.02600</td>\n",
       "      <td>-3.635</td>\n",
       "      <td>NaN</td>\n",
       "      <td>C$</td>\n",
       "      <td>1991-12-10 00:00:00</td>\n",
       "      <td>2021</td>\n",
       "      <td>1991</td>\n",
       "      <td>Dead</td>\n",
       "      <td>2021-12-01 00:00:00</td>\n",
       "      <td>83.07713</td>\n",
       "      <td>ILB</td>\n",
       "      <td>29.975359</td>\n",
       "      <td>20y+</td>\n",
       "    </tr>\n",
       "    <tr>\n",
       "      <th>5771H1</th>\n",
       "      <td>CA13501ZCM91</td>\n",
       "      <td>CANADA 1993 PKG. STRIP 01/12/21 INDXLK.</td>\n",
       "      <td>0.0000</td>\n",
       "      <td>NaN</td>\n",
       "      <td>NaN</td>\n",
       "      <td>0.00</td>\n",
       "      <td>0</td>\n",
       "      <td>0.00000</td>\n",
       "      <td>NaN</td>\n",
       "      <td>NaN</td>\n",
       "      <td>C$</td>\n",
       "      <td>1993-06-01 00:00:00</td>\n",
       "      <td>2021</td>\n",
       "      <td>1993</td>\n",
       "      <td>Dead</td>\n",
       "      <td>2021-12-01 00:00:00</td>\n",
       "      <td>NaN</td>\n",
       "      <td>ILB</td>\n",
       "      <td>28.501027</td>\n",
       "      <td>20y+</td>\n",
       "    </tr>\n",
       "    <tr>\n",
       "      <th>491970</th>\n",
       "      <td>CA13506ZCL63</td>\n",
       "      <td>CANADA 1993 CPN. STRIP 01/12/21 INDXLK.</td>\n",
       "      <td>0.0000</td>\n",
       "      <td>NaN</td>\n",
       "      <td>NaN</td>\n",
       "      <td>0.00</td>\n",
       "      <td>0</td>\n",
       "      <td>0.00000</td>\n",
       "      <td>NaN</td>\n",
       "      <td>NaN</td>\n",
       "      <td>C$</td>\n",
       "      <td>1993-09-02 00:00:00</td>\n",
       "      <td>2021</td>\n",
       "      <td>1993</td>\n",
       "      <td>Dead</td>\n",
       "      <td>2021-12-01 00:00:00</td>\n",
       "      <td>NaN</td>\n",
       "      <td>ILB</td>\n",
       "      <td>28.246407</td>\n",
       "      <td>20y+</td>\n",
       "    </tr>\n",
       "    <tr>\n",
       "      <th>49197U</th>\n",
       "      <td>CA13506ZCG78</td>\n",
       "      <td>CANADA 1993 CPN. STRIP 01/12/19 INDXLK.</td>\n",
       "      <td>0.0000</td>\n",
       "      <td>NaN</td>\n",
       "      <td>NaN</td>\n",
       "      <td>0.00</td>\n",
       "      <td>0</td>\n",
       "      <td>0.00000</td>\n",
       "      <td>NaN</td>\n",
       "      <td>NaN</td>\n",
       "      <td>C$</td>\n",
       "      <td>1993-09-02 00:00:00</td>\n",
       "      <td>2019</td>\n",
       "      <td>1993</td>\n",
       "      <td>Dead</td>\n",
       "      <td>2019-12-01 00:00:00</td>\n",
       "      <td>NaN</td>\n",
       "      <td>ILB</td>\n",
       "      <td>26.246407</td>\n",
       "      <td>20y+</td>\n",
       "    </tr>\n",
       "    <tr>\n",
       "      <th>49197V</th>\n",
       "      <td>CA13506ZCH51</td>\n",
       "      <td>CANADA 1993 CPN. STRIP 01/06/20 INDXLK.</td>\n",
       "      <td>0.0000</td>\n",
       "      <td>NaN</td>\n",
       "      <td>NaN</td>\n",
       "      <td>0.00</td>\n",
       "      <td>0</td>\n",
       "      <td>0.00000</td>\n",
       "      <td>NaN</td>\n",
       "      <td>NaN</td>\n",
       "      <td>C$</td>\n",
       "      <td>1993-09-02 00:00:00</td>\n",
       "      <td>2020</td>\n",
       "      <td>1993</td>\n",
       "      <td>Dead</td>\n",
       "      <td>2020-06-01 00:00:00</td>\n",
       "      <td>NaN</td>\n",
       "      <td>ILB</td>\n",
       "      <td>26.748118</td>\n",
       "      <td>20y+</td>\n",
       "    </tr>\n",
       "    <tr>\n",
       "      <th>846111</th>\n",
       "      <td>CA135087VS05</td>\n",
       "      <td>CANADA 1995 4 1/4% 01/12/26 INDXLK.</td>\n",
       "      <td>7.6333</td>\n",
       "      <td>5250000.0</td>\n",
       "      <td>01/06,01/12</td>\n",
       "      <td>4.25</td>\n",
       "      <td>2</td>\n",
       "      <td>2.06100</td>\n",
       "      <td>2.241</td>\n",
       "      <td>NaN</td>\n",
       "      <td>C$</td>\n",
       "      <td>1995-12-07 00:00:00</td>\n",
       "      <td>2026</td>\n",
       "      <td>1995</td>\n",
       "      <td>Active</td>\n",
       "      <td>2026-12-01 00:00:00</td>\n",
       "      <td>87.82571</td>\n",
       "      <td>ILB</td>\n",
       "      <td>30.983573</td>\n",
       "      <td>20y+</td>\n",
       "    </tr>\n",
       "    <tr>\n",
       "      <th>846564</th>\n",
       "      <td>CA135087VW17</td>\n",
       "      <td>CANADA 1996 8% 01/06/27 VW17</td>\n",
       "      <td>8.0000</td>\n",
       "      <td>9600000.0</td>\n",
       "      <td>01/06,01/12</td>\n",
       "      <td>NaN</td>\n",
       "      <td>2</td>\n",
       "      <td>0.67940</td>\n",
       "      <td>NaN</td>\n",
       "      <td>4.0334</td>\n",
       "      <td>C$</td>\n",
       "      <td>1996-05-01 00:00:00</td>\n",
       "      <td>2027-06-10 00:00:00</td>\n",
       "      <td>1996-05-01 00:00:00</td>\n",
       "      <td>NaN</td>\n",
       "      <td>2027-06-10 00:00:00</td>\n",
       "      <td>NaN</td>\n",
       "      <td>NOM</td>\n",
       "      <td>31.106776</td>\n",
       "      <td>20y+</td>\n",
       "    </tr>\n",
       "    <tr>\n",
       "      <th>610451</th>\n",
       "      <td>CA135087WL43</td>\n",
       "      <td>CANADA 1998 5 3/4% 01/06/29 S</td>\n",
       "      <td>5.7500</td>\n",
       "      <td>13900000.0</td>\n",
       "      <td>01/06,01/12</td>\n",
       "      <td>NaN</td>\n",
       "      <td>2</td>\n",
       "      <td>1.87470</td>\n",
       "      <td>NaN</td>\n",
       "      <td>3.8772</td>\n",
       "      <td>C$</td>\n",
       "      <td>1998-02-02 00:00:00</td>\n",
       "      <td>2029-06-10 00:00:00</td>\n",
       "      <td>1998-02-02 00:00:00</td>\n",
       "      <td>NaN</td>\n",
       "      <td>2029-06-10 00:00:00</td>\n",
       "      <td>NaN</td>\n",
       "      <td>NOM</td>\n",
       "      <td>31.350445</td>\n",
       "      <td>20y+</td>\n",
       "    </tr>\n",
       "    <tr>\n",
       "      <th>610286</th>\n",
       "      <td>CA135087WV25</td>\n",
       "      <td>CANADA 1999 4% 01/12/31 INDXLK.</td>\n",
       "      <td>6.9046</td>\n",
       "      <td>5800000.0</td>\n",
       "      <td>01/06,01/12</td>\n",
       "      <td>4.00</td>\n",
       "      <td>2</td>\n",
       "      <td>0.93150</td>\n",
       "      <td>2.129</td>\n",
       "      <td>NaN</td>\n",
       "      <td>C$</td>\n",
       "      <td>1999-03-08 00:00:00</td>\n",
       "      <td>2031</td>\n",
       "      <td>1999</td>\n",
       "      <td>Active</td>\n",
       "      <td>2031-12-01 00:00:00</td>\n",
       "      <td>91.38249</td>\n",
       "      <td>ILB</td>\n",
       "      <td>32.733744</td>\n",
       "      <td>20y+</td>\n",
       "    </tr>\n",
       "    <tr>\n",
       "      <th>248402</th>\n",
       "      <td>CA135087XQ21</td>\n",
       "      <td>CANADA 2003 3% 01/12/36 INDXLK.</td>\n",
       "      <td>4.5947</td>\n",
       "      <td>5850000.0</td>\n",
       "      <td>01/06,01/12</td>\n",
       "      <td>3.00</td>\n",
       "      <td>2</td>\n",
       "      <td>1.43840</td>\n",
       "      <td>2.100</td>\n",
       "      <td>NaN</td>\n",
       "      <td>C$</td>\n",
       "      <td>2003-06-09 00:00:00</td>\n",
       "      <td>2036</td>\n",
       "      <td>2003</td>\n",
       "      <td>Active</td>\n",
       "      <td>2036-12-01 00:00:00</td>\n",
       "      <td>102.99160</td>\n",
       "      <td>ILB</td>\n",
       "      <td>33.481862</td>\n",
       "      <td>20y+</td>\n",
       "    </tr>\n",
       "    <tr>\n",
       "      <th>491986</th>\n",
       "      <td>CA13506ZDY75</td>\n",
       "      <td>CANADA 2004 CPN. STRIP 01/12/21 INDXLK.</td>\n",
       "      <td>0.0000</td>\n",
       "      <td>NaN</td>\n",
       "      <td>NaN</td>\n",
       "      <td>0.00</td>\n",
       "      <td>0</td>\n",
       "      <td>0.00000</td>\n",
       "      <td>NaN</td>\n",
       "      <td>NaN</td>\n",
       "      <td>C$</td>\n",
       "      <td>2004-02-24 00:00:00</td>\n",
       "      <td>2021</td>\n",
       "      <td>2004</td>\n",
       "      <td>Dead</td>\n",
       "      <td>2021-12-01 00:00:00</td>\n",
       "      <td>NaN</td>\n",
       "      <td>ILB</td>\n",
       "      <td>17.766598</td>\n",
       "      <td>10-20y</td>\n",
       "    </tr>\n",
       "    <tr>\n",
       "      <th>491989</th>\n",
       "      <td>CA13506ZEB63</td>\n",
       "      <td>CANADA 2004 CPN. STRIP 01/06/23 INDXLK.</td>\n",
       "      <td>0.0000</td>\n",
       "      <td>NaN</td>\n",
       "      <td>NaN</td>\n",
       "      <td>0.00</td>\n",
       "      <td>0</td>\n",
       "      <td>0.00000</td>\n",
       "      <td>NaN</td>\n",
       "      <td>NaN</td>\n",
       "      <td>C$</td>\n",
       "      <td>2004-02-24 00:00:00</td>\n",
       "      <td>2023</td>\n",
       "      <td>2004</td>\n",
       "      <td>Dead</td>\n",
       "      <td>2023-06-01 00:00:00</td>\n",
       "      <td>NaN</td>\n",
       "      <td>ILB</td>\n",
       "      <td>19.265572</td>\n",
       "      <td>10-20y</td>\n",
       "    </tr>\n",
       "    <tr>\n",
       "      <th>491988</th>\n",
       "      <td>CA13506ZEA80</td>\n",
       "      <td>CANADA 2004 CPN. STRIP 01/12/22 INDXLK.</td>\n",
       "      <td>0.0000</td>\n",
       "      <td>NaN</td>\n",
       "      <td>NaN</td>\n",
       "      <td>0.00</td>\n",
       "      <td>0</td>\n",
       "      <td>0.00000</td>\n",
       "      <td>NaN</td>\n",
       "      <td>NaN</td>\n",
       "      <td>C$</td>\n",
       "      <td>2004-02-24 00:00:00</td>\n",
       "      <td>2022</td>\n",
       "      <td>2004</td>\n",
       "      <td>Dead</td>\n",
       "      <td>2022-12-01 00:00:00</td>\n",
       "      <td>NaN</td>\n",
       "      <td>ILB</td>\n",
       "      <td>18.766598</td>\n",
       "      <td>10-20y</td>\n",
       "    </tr>\n",
       "    <tr>\n",
       "      <th>491985</th>\n",
       "      <td>CA13506ZDX92</td>\n",
       "      <td>CANADA 2004 CPN. STRIP 01/06/21 INDXLK.</td>\n",
       "      <td>0.0000</td>\n",
       "      <td>NaN</td>\n",
       "      <td>NaN</td>\n",
       "      <td>0.00</td>\n",
       "      <td>0</td>\n",
       "      <td>0.00000</td>\n",
       "      <td>NaN</td>\n",
       "      <td>NaN</td>\n",
       "      <td>C$</td>\n",
       "      <td>2004-02-24 00:00:00</td>\n",
       "      <td>2021</td>\n",
       "      <td>2004</td>\n",
       "      <td>Dead</td>\n",
       "      <td>2021-06-01 00:00:00</td>\n",
       "      <td>NaN</td>\n",
       "      <td>ILB</td>\n",
       "      <td>17.265572</td>\n",
       "      <td>10-20y</td>\n",
       "    </tr>\n",
       "    <tr>\n",
       "      <th>49199C</th>\n",
       "      <td>CA13506ZEC47</td>\n",
       "      <td>CANADA 2004 CPN. STRIP 01/12/23 INDXLK.</td>\n",
       "      <td>0.0000</td>\n",
       "      <td>NaN</td>\n",
       "      <td>NaN</td>\n",
       "      <td>0.00</td>\n",
       "      <td>0</td>\n",
       "      <td>0.00000</td>\n",
       "      <td>NaN</td>\n",
       "      <td>NaN</td>\n",
       "      <td>C$</td>\n",
       "      <td>2004-02-24 00:00:00</td>\n",
       "      <td>2023</td>\n",
       "      <td>2004</td>\n",
       "      <td>Active</td>\n",
       "      <td>2023-12-01 00:00:00</td>\n",
       "      <td>NaN</td>\n",
       "      <td>ILB</td>\n",
       "      <td>19.766598</td>\n",
       "      <td>10-20y</td>\n",
       "    </tr>\n",
       "    <tr>\n",
       "      <th>491987</th>\n",
       "      <td>CA13506ZDZ41</td>\n",
       "      <td>CANADA 2004 CPN. STRIP 01/06/22 INDXLK.</td>\n",
       "      <td>0.0000</td>\n",
       "      <td>NaN</td>\n",
       "      <td>NaN</td>\n",
       "      <td>0.00</td>\n",
       "      <td>0</td>\n",
       "      <td>0.00000</td>\n",
       "      <td>NaN</td>\n",
       "      <td>NaN</td>\n",
       "      <td>C$</td>\n",
       "      <td>2004-02-24 00:00:00</td>\n",
       "      <td>2022</td>\n",
       "      <td>2004</td>\n",
       "      <td>Dead</td>\n",
       "      <td>2022-06-01 00:00:00</td>\n",
       "      <td>NaN</td>\n",
       "      <td>ILB</td>\n",
       "      <td>18.265572</td>\n",
       "      <td>10-20y</td>\n",
       "    </tr>\n",
       "    <tr>\n",
       "      <th>46269V</th>\n",
       "      <td>CA135087XW98</td>\n",
       "      <td>CANADA 2004 5% 01/06/37 S</td>\n",
       "      <td>5.0000</td>\n",
       "      <td>13999090.0</td>\n",
       "      <td>01/06,01/12</td>\n",
       "      <td>NaN</td>\n",
       "      <td>2</td>\n",
       "      <td>1.84930</td>\n",
       "      <td>NaN</td>\n",
       "      <td>3.9023</td>\n",
       "      <td>C$</td>\n",
       "      <td>2004-07-19 00:00:00</td>\n",
       "      <td>2037-06-10 00:00:00</td>\n",
       "      <td>2004-07-19 00:00:00</td>\n",
       "      <td>NaN</td>\n",
       "      <td>2037-06-10 00:00:00</td>\n",
       "      <td>NaN</td>\n",
       "      <td>NOM</td>\n",
       "      <td>32.890486</td>\n",
       "      <td>20y+</td>\n",
       "    </tr>\n",
       "    <tr>\n",
       "      <th>97059Q</th>\n",
       "      <td>CA135087YK42</td>\n",
       "      <td>CANADA 2007 2% 01/12/41 INDXLK.</td>\n",
       "      <td>2.8366</td>\n",
       "      <td>6550000.0</td>\n",
       "      <td>01/06,01/12</td>\n",
       "      <td>2.00</td>\n",
       "      <td>2</td>\n",
       "      <td>0.98630</td>\n",
       "      <td>2.122</td>\n",
       "      <td>NaN</td>\n",
       "      <td>C$</td>\n",
       "      <td>2007-06-04 00:00:00</td>\n",
       "      <td>2041</td>\n",
       "      <td>2007</td>\n",
       "      <td>Active</td>\n",
       "      <td>2041-12-01 00:00:00</td>\n",
       "      <td>111.21849</td>\n",
       "      <td>ILB</td>\n",
       "      <td>34.492813</td>\n",
       "      <td>20y+</td>\n",
       "    </tr>\n",
       "    <tr>\n",
       "      <th>2180M7</th>\n",
       "      <td>CA135087YQ12</td>\n",
       "      <td>CANADA 2008 4% 01/06/41 S</td>\n",
       "      <td>4.0000</td>\n",
       "      <td>15800000.0</td>\n",
       "      <td>01/06,01/12</td>\n",
       "      <td>NaN</td>\n",
       "      <td>2</td>\n",
       "      <td>1.91780</td>\n",
       "      <td>NaN</td>\n",
       "      <td>3.7934</td>\n",
       "      <td>C$</td>\n",
       "      <td>2008-06-09 00:00:00</td>\n",
       "      <td>2041-06-10 00:00:00</td>\n",
       "      <td>2008-06-09 00:00:00</td>\n",
       "      <td>NaN</td>\n",
       "      <td>2041-06-10 00:00:00</td>\n",
       "      <td>NaN</td>\n",
       "      <td>NOM</td>\n",
       "      <td>33.000000</td>\n",
       "      <td>20y+</td>\n",
       "    </tr>\n",
       "    <tr>\n",
       "      <th>3925TN</th>\n",
       "      <td>CA135087YZ11</td>\n",
       "      <td>CANADA 2009 3 1/2% 01/06/20 S</td>\n",
       "      <td>3.5000</td>\n",
       "      <td>13100000.0</td>\n",
       "      <td>01/06,01/12</td>\n",
       "      <td>NaN</td>\n",
       "      <td>2</td>\n",
       "      <td>0.80550</td>\n",
       "      <td>NaN</td>\n",
       "      <td>NaN</td>\n",
       "      <td>C$</td>\n",
       "      <td>2009-09-08 00:00:00</td>\n",
       "      <td>2020-06-10 00:00:00</td>\n",
       "      <td>2009-09-08 00:00:00</td>\n",
       "      <td>NaN</td>\n",
       "      <td>2020-06-10 00:00:00</td>\n",
       "      <td>NaN</td>\n",
       "      <td>NOM</td>\n",
       "      <td>10.756331</td>\n",
       "      <td>10-20y</td>\n",
       "    </tr>\n",
       "    <tr>\n",
       "      <th>5653HV</th>\n",
       "      <td>CA135087ZH04</td>\n",
       "      <td>CANADA 2010 1 1/2% 01/12/44 INDXLK.</td>\n",
       "      <td>2.0468</td>\n",
       "      <td>7700000.0</td>\n",
       "      <td>01/06,01/12</td>\n",
       "      <td>1.50</td>\n",
       "      <td>2</td>\n",
       "      <td>0.00411</td>\n",
       "      <td>2.082</td>\n",
       "      <td>NaN</td>\n",
       "      <td>C$</td>\n",
       "      <td>2010-05-31 00:00:00</td>\n",
       "      <td>2044</td>\n",
       "      <td>2010</td>\n",
       "      <td>Active</td>\n",
       "      <td>2044-12-01 00:00:00</td>\n",
       "      <td>115.60000</td>\n",
       "      <td>ILB</td>\n",
       "      <td>34.506502</td>\n",
       "      <td>20y+</td>\n",
       "    </tr>\n",
       "    <tr>\n",
       "      <th>5694XD</th>\n",
       "      <td>CA135087ZJ69</td>\n",
       "      <td>CANADA 2010 3 1/4% 01/06/21 S</td>\n",
       "      <td>3.2500</td>\n",
       "      <td>11500000.0</td>\n",
       "      <td>01/06,01/12</td>\n",
       "      <td>NaN</td>\n",
       "      <td>2</td>\n",
       "      <td>1.20210</td>\n",
       "      <td>NaN</td>\n",
       "      <td>NaN</td>\n",
       "      <td>C$</td>\n",
       "      <td>2010-07-19 00:00:00</td>\n",
       "      <td>2021-06-10 00:00:00</td>\n",
       "      <td>2010-07-19 00:00:00</td>\n",
       "      <td>NaN</td>\n",
       "      <td>2021-06-10 00:00:00</td>\n",
       "      <td>NaN</td>\n",
       "      <td>NOM</td>\n",
       "      <td>10.893224</td>\n",
       "      <td>10-20y</td>\n",
       "    </tr>\n",
       "    <tr>\n",
       "      <th>6561K8</th>\n",
       "      <td>CA135087ZU15</td>\n",
       "      <td>CANADA 2011 2 3/4% 01/06/22 S</td>\n",
       "      <td>2.7500</td>\n",
       "      <td>12700000.0</td>\n",
       "      <td>01/06,01/12</td>\n",
       "      <td>NaN</td>\n",
       "      <td>2</td>\n",
       "      <td>0.91160</td>\n",
       "      <td>NaN</td>\n",
       "      <td>NaN</td>\n",
       "      <td>C$</td>\n",
       "      <td>2011-08-02 00:00:00</td>\n",
       "      <td>2022-06-10 00:00:00</td>\n",
       "      <td>2011-08-02 00:00:00</td>\n",
       "      <td>NaN</td>\n",
       "      <td>2022-06-10 00:00:00</td>\n",
       "      <td>NaN</td>\n",
       "      <td>NOM</td>\n",
       "      <td>10.854894</td>\n",
       "      <td>10-20y</td>\n",
       "    </tr>\n",
       "    <tr>\n",
       "      <th>8118P5</th>\n",
       "      <td>CA135087A610</td>\n",
       "      <td>CANADA 2012 1 1/2% 01/06/23 S</td>\n",
       "      <td>1.5000</td>\n",
       "      <td>14200000.0</td>\n",
       "      <td>01/06,01/12</td>\n",
       "      <td>NaN</td>\n",
       "      <td>2</td>\n",
       "      <td>0.50960</td>\n",
       "      <td>NaN</td>\n",
       "      <td>NaN</td>\n",
       "      <td>C$</td>\n",
       "      <td>2012-07-30 00:00:00</td>\n",
       "      <td>2023-06-10 00:00:00</td>\n",
       "      <td>2012-07-30 00:00:00</td>\n",
       "      <td>NaN</td>\n",
       "      <td>2023-06-10 00:00:00</td>\n",
       "      <td>NaN</td>\n",
       "      <td>NOM</td>\n",
       "      <td>10.860370</td>\n",
       "      <td>10-20y</td>\n",
       "    </tr>\n",
       "    <tr>\n",
       "      <th>787NK8</th>\n",
       "      <td>CA135087B949</td>\n",
       "      <td>CANADA 2013 1 1/4% 01/12/47 INDXLK.</td>\n",
       "      <td>1.5993</td>\n",
       "      <td>7700000.0</td>\n",
       "      <td>01/06,01/12</td>\n",
       "      <td>1.25</td>\n",
       "      <td>2</td>\n",
       "      <td>0.61990</td>\n",
       "      <td>2.009</td>\n",
       "      <td>NaN</td>\n",
       "      <td>C$</td>\n",
       "      <td>2013-12-02 00:00:00</td>\n",
       "      <td>2047</td>\n",
       "      <td>2013</td>\n",
       "      <td>Active</td>\n",
       "      <td>2047-12-01 00:00:00</td>\n",
       "      <td>123.29032</td>\n",
       "      <td>ILB</td>\n",
       "      <td>33.997262</td>\n",
       "      <td>20y+</td>\n",
       "    </tr>\n",
       "    <tr>\n",
       "      <th>849UMH</th>\n",
       "      <td>CA135087G997</td>\n",
       "      <td>CANADA 2017 1/2% 01/12/50 INDXLK.</td>\n",
       "      <td>0.6068</td>\n",
       "      <td>7600000.0</td>\n",
       "      <td>01/06,01/12</td>\n",
       "      <td>0.50</td>\n",
       "      <td>2</td>\n",
       "      <td>0.24520</td>\n",
       "      <td>1.921</td>\n",
       "      <td>NaN</td>\n",
       "      <td>C$</td>\n",
       "      <td>2017-06-05 00:00:00</td>\n",
       "      <td>2050</td>\n",
       "      <td>2017</td>\n",
       "      <td>Active</td>\n",
       "      <td>2050-12-01 00:00:00</td>\n",
       "      <td>129.96667</td>\n",
       "      <td>ILB</td>\n",
       "      <td>33.490075</td>\n",
       "      <td>20y+</td>\n",
       "    </tr>\n",
       "    <tr>\n",
       "      <th>853J3Z</th>\n",
       "      <td>CA135087H318</td>\n",
       "      <td>CANADA 2017 1 1/4% 01/11/19 S</td>\n",
       "      <td>1.2500</td>\n",
       "      <td>15600000.0</td>\n",
       "      <td>01/05,01/11</td>\n",
       "      <td>NaN</td>\n",
       "      <td>2</td>\n",
       "      <td>0.28080</td>\n",
       "      <td>NaN</td>\n",
       "      <td>NaN</td>\n",
       "      <td>C$</td>\n",
       "      <td>2017-08-11 00:00:00</td>\n",
       "      <td>2019-01-11 00:00:00</td>\n",
       "      <td>2017-08-11 00:00:00</td>\n",
       "      <td>NaN</td>\n",
       "      <td>2019-01-11 00:00:00</td>\n",
       "      <td>NaN</td>\n",
       "      <td>NOM</td>\n",
       "      <td>1.419576</td>\n",
       "      <td>0-3y</td>\n",
       "    </tr>\n",
       "    <tr>\n",
       "      <th>860K02</th>\n",
       "      <td>CA135087H722</td>\n",
       "      <td>CANADA 2017 2% 01/12/51 S</td>\n",
       "      <td>2.0000</td>\n",
       "      <td>51816530.0</td>\n",
       "      <td>01/06,01/12</td>\n",
       "      <td>NaN</td>\n",
       "      <td>2</td>\n",
       "      <td>0.88220</td>\n",
       "      <td>NaN</td>\n",
       "      <td>3.6661</td>\n",
       "      <td>C$</td>\n",
       "      <td>2017-12-22 00:00:00</td>\n",
       "      <td>2051-02-11 00:00:00</td>\n",
       "      <td>2017-12-22 00:00:00</td>\n",
       "      <td>NaN</td>\n",
       "      <td>2051-02-11 00:00:00</td>\n",
       "      <td>NaN</td>\n",
       "      <td>NOM</td>\n",
       "      <td>33.140315</td>\n",
       "      <td>20y+</td>\n",
       "    </tr>\n",
       "    <tr>\n",
       "      <th>2360RY</th>\n",
       "      <td>CA135087K452</td>\n",
       "      <td>CANADA 2019 1 1/4% 01/11/21 S</td>\n",
       "      <td>1.2500</td>\n",
       "      <td>12000000.0</td>\n",
       "      <td>01/05,01/11</td>\n",
       "      <td>NaN</td>\n",
       "      <td>2</td>\n",
       "      <td>0.28770</td>\n",
       "      <td>NaN</td>\n",
       "      <td>NaN</td>\n",
       "      <td>C$</td>\n",
       "      <td>2019-08-09 00:00:00</td>\n",
       "      <td>2021-01-11 00:00:00</td>\n",
       "      <td>2019-08-09 00:00:00</td>\n",
       "      <td>NaN</td>\n",
       "      <td>2021-01-11 00:00:00</td>\n",
       "      <td>NaN</td>\n",
       "      <td>NOM</td>\n",
       "      <td>1.425051</td>\n",
       "      <td>0-3y</td>\n",
       "    </tr>\n",
       "    <tr>\n",
       "      <th>615GG0</th>\n",
       "      <td>CA135087L369</td>\n",
       "      <td>CANADA 2020 1/4% 01/11/22 S</td>\n",
       "      <td>0.2500</td>\n",
       "      <td>37000000.0</td>\n",
       "      <td>01/05,01/11</td>\n",
       "      <td>NaN</td>\n",
       "      <td>2</td>\n",
       "      <td>0.05205</td>\n",
       "      <td>NaN</td>\n",
       "      <td>NaN</td>\n",
       "      <td>C$</td>\n",
       "      <td>2020-08-17 00:00:00</td>\n",
       "      <td>2022-01-11 00:00:00</td>\n",
       "      <td>2020-08-17 00:00:00</td>\n",
       "      <td>NaN</td>\n",
       "      <td>2022-01-11 00:00:00</td>\n",
       "      <td>NaN</td>\n",
       "      <td>NOM</td>\n",
       "      <td>1.400411</td>\n",
       "      <td>0-3y</td>\n",
       "    </tr>\n",
       "    <tr>\n",
       "      <th>794D5D</th>\n",
       "      <td>CA135087D358</td>\n",
       "      <td>CANADA 2014 2 3/4% 01/12/48 S</td>\n",
       "      <td>2.7500</td>\n",
       "      <td>14900000.0</td>\n",
       "      <td>01/06,01/12</td>\n",
       "      <td>NaN</td>\n",
       "      <td>2</td>\n",
       "      <td>1.37120</td>\n",
       "      <td>NaN</td>\n",
       "      <td>3.6811</td>\n",
       "      <td>C$</td>\n",
       "      <td>2021-06-02 00:00:00</td>\n",
       "      <td>2048-02-11 00:00:00</td>\n",
       "      <td>2014-06-02 00:00:00</td>\n",
       "      <td>NaN</td>\n",
       "      <td>2048-02-11 00:00:00</td>\n",
       "      <td>NaN</td>\n",
       "      <td>NOM</td>\n",
       "      <td>26.696099</td>\n",
       "      <td>20y+</td>\n",
       "    </tr>\n",
       "    <tr>\n",
       "      <th>645HW9</th>\n",
       "      <td>CA135087M433</td>\n",
       "      <td>CANADA 2021 1/4% 01/12/54 INDXLK.</td>\n",
       "      <td>0.2823</td>\n",
       "      <td>2100000.0</td>\n",
       "      <td>01/06,01/12</td>\n",
       "      <td>0.25</td>\n",
       "      <td>2</td>\n",
       "      <td>0.12330</td>\n",
       "      <td>1.830</td>\n",
       "      <td>NaN</td>\n",
       "      <td>C$</td>\n",
       "      <td>2021-06-04 00:00:00</td>\n",
       "      <td>2054</td>\n",
       "      <td>2021</td>\n",
       "      <td>Active</td>\n",
       "      <td>2054-12-01 00:00:00</td>\n",
       "      <td>139.67000</td>\n",
       "      <td>ILB</td>\n",
       "      <td>33.492813</td>\n",
       "      <td>20y+</td>\n",
       "    </tr>\n",
       "    <tr>\n",
       "      <th>6487P3</th>\n",
       "      <td>CA135087ZS68</td>\n",
       "      <td>CANADA 2011 3 1/2% 01/12/45 S</td>\n",
       "      <td>3.5000</td>\n",
       "      <td>16400000.0</td>\n",
       "      <td>01/06,01/12</td>\n",
       "      <td>NaN</td>\n",
       "      <td>2</td>\n",
       "      <td>1.63970</td>\n",
       "      <td>NaN</td>\n",
       "      <td>3.7310</td>\n",
       "      <td>C$</td>\n",
       "      <td>2021-06-13 00:00:00</td>\n",
       "      <td>2045-02-11 00:00:00</td>\n",
       "      <td>2011-06-13 00:00:00</td>\n",
       "      <td>NaN</td>\n",
       "      <td>2045-02-11 00:00:00</td>\n",
       "      <td>NaN</td>\n",
       "      <td>NOM</td>\n",
       "      <td>23.665982</td>\n",
       "      <td>20y+</td>\n",
       "    </tr>\n",
       "    <tr>\n",
       "      <th>650WAD</th>\n",
       "      <td>CA135087M680</td>\n",
       "      <td>CANADA 2021 1 3/4% 01/12/53 S</td>\n",
       "      <td>1.7500</td>\n",
       "      <td>32000000.0</td>\n",
       "      <td>01/06,01/12</td>\n",
       "      <td>NaN</td>\n",
       "      <td>2</td>\n",
       "      <td>0.57530</td>\n",
       "      <td>NaN</td>\n",
       "      <td>3.6372</td>\n",
       "      <td>C$</td>\n",
       "      <td>2021-08-03 00:00:00</td>\n",
       "      <td>2053-02-11 00:00:00</td>\n",
       "      <td>2021-08-03 00:00:00</td>\n",
       "      <td>NaN</td>\n",
       "      <td>2053-02-11 00:00:00</td>\n",
       "      <td>NaN</td>\n",
       "      <td>NOM</td>\n",
       "      <td>31.526352</td>\n",
       "      <td>20y+</td>\n",
       "    </tr>\n",
       "    <tr>\n",
       "      <th>651FLY</th>\n",
       "      <td>CA135087M763</td>\n",
       "      <td>CANADA 2021 1/2% 01/11/23 S</td>\n",
       "      <td>0.5000</td>\n",
       "      <td>16500000.0</td>\n",
       "      <td>01/05,01/11</td>\n",
       "      <td>NaN</td>\n",
       "      <td>2</td>\n",
       "      <td>0.11510</td>\n",
       "      <td>NaN</td>\n",
       "      <td>NaN</td>\n",
       "      <td>C$</td>\n",
       "      <td>2021-08-09 00:00:00</td>\n",
       "      <td>2023-01-11 00:00:00</td>\n",
       "      <td>2021-08-09 00:00:00</td>\n",
       "      <td>NaN</td>\n",
       "      <td>2023-01-11 00:00:00</td>\n",
       "      <td>NaN</td>\n",
       "      <td>NOM</td>\n",
       "      <td>1.425051</td>\n",
       "      <td>0-3y</td>\n",
       "    </tr>\n",
       "    <tr>\n",
       "      <th>658V0W</th>\n",
       "      <td>CA135087N266</td>\n",
       "      <td>CANADA 2021 1 1/2% 01/12/31 S</td>\n",
       "      <td>1.5000</td>\n",
       "      <td>32000000.0</td>\n",
       "      <td>01/06,01/12</td>\n",
       "      <td>NaN</td>\n",
       "      <td>2</td>\n",
       "      <td>0.15210</td>\n",
       "      <td>NaN</td>\n",
       "      <td>3.8959</td>\n",
       "      <td>C$</td>\n",
       "      <td>2021-10-25 00:00:00</td>\n",
       "      <td>2031-02-11 00:00:00</td>\n",
       "      <td>2021-10-25 00:00:00</td>\n",
       "      <td>NaN</td>\n",
       "      <td>2031-02-11 00:00:00</td>\n",
       "      <td>NaN</td>\n",
       "      <td>NOM</td>\n",
       "      <td>9.299110</td>\n",
       "      <td>5-10y</td>\n",
       "    </tr>\n",
       "  </tbody>\n",
       "</table>\n",
       "</div>"
      ],
      "text/plain": [
       "           ISIN CODE                                     NAME  COUPON  \\\n",
       "Type                                                                    \n",
       "597973  CA135087UL60      CANADA 1991 4 1/4% 01/12/21 INDXLK.  7.3104   \n",
       "5771H1  CA13501ZCM91  CANADA 1993 PKG. STRIP 01/12/21 INDXLK.  0.0000   \n",
       "491970  CA13506ZCL63  CANADA 1993 CPN. STRIP 01/12/21 INDXLK.  0.0000   \n",
       "49197U  CA13506ZCG78  CANADA 1993 CPN. STRIP 01/12/19 INDXLK.  0.0000   \n",
       "49197V  CA13506ZCH51  CANADA 1993 CPN. STRIP 01/06/20 INDXLK.  0.0000   \n",
       "846111  CA135087VS05      CANADA 1995 4 1/4% 01/12/26 INDXLK.  7.6333   \n",
       "846564  CA135087VW17             CANADA 1996 8% 01/06/27 VW17  8.0000   \n",
       "610451  CA135087WL43            CANADA 1998 5 3/4% 01/06/29 S  5.7500   \n",
       "610286  CA135087WV25          CANADA 1999 4% 01/12/31 INDXLK.  6.9046   \n",
       "248402  CA135087XQ21          CANADA 2003 3% 01/12/36 INDXLK.  4.5947   \n",
       "491986  CA13506ZDY75  CANADA 2004 CPN. STRIP 01/12/21 INDXLK.  0.0000   \n",
       "491989  CA13506ZEB63  CANADA 2004 CPN. STRIP 01/06/23 INDXLK.  0.0000   \n",
       "491988  CA13506ZEA80  CANADA 2004 CPN. STRIP 01/12/22 INDXLK.  0.0000   \n",
       "491985  CA13506ZDX92  CANADA 2004 CPN. STRIP 01/06/21 INDXLK.  0.0000   \n",
       "49199C  CA13506ZEC47  CANADA 2004 CPN. STRIP 01/12/23 INDXLK.  0.0000   \n",
       "491987  CA13506ZDZ41  CANADA 2004 CPN. STRIP 01/06/22 INDXLK.  0.0000   \n",
       "46269V  CA135087XW98                CANADA 2004 5% 01/06/37 S  5.0000   \n",
       "97059Q  CA135087YK42          CANADA 2007 2% 01/12/41 INDXLK.  2.8366   \n",
       "2180M7  CA135087YQ12                CANADA 2008 4% 01/06/41 S  4.0000   \n",
       "3925TN  CA135087YZ11            CANADA 2009 3 1/2% 01/06/20 S  3.5000   \n",
       "5653HV  CA135087ZH04      CANADA 2010 1 1/2% 01/12/44 INDXLK.  2.0468   \n",
       "5694XD  CA135087ZJ69            CANADA 2010 3 1/4% 01/06/21 S  3.2500   \n",
       "6561K8  CA135087ZU15            CANADA 2011 2 3/4% 01/06/22 S  2.7500   \n",
       "8118P5  CA135087A610            CANADA 2012 1 1/2% 01/06/23 S  1.5000   \n",
       "787NK8  CA135087B949      CANADA 2013 1 1/4% 01/12/47 INDXLK.  1.5993   \n",
       "849UMH  CA135087G997        CANADA 2017 1/2% 01/12/50 INDXLK.  0.6068   \n",
       "853J3Z  CA135087H318            CANADA 2017 1 1/4% 01/11/19 S  1.2500   \n",
       "860K02  CA135087H722                CANADA 2017 2% 01/12/51 S  2.0000   \n",
       "2360RY  CA135087K452            CANADA 2019 1 1/4% 01/11/21 S  1.2500   \n",
       "615GG0  CA135087L369              CANADA 2020 1/4% 01/11/22 S  0.2500   \n",
       "794D5D  CA135087D358            CANADA 2014 2 3/4% 01/12/48 S  2.7500   \n",
       "645HW9  CA135087M433        CANADA 2021 1/4% 01/12/54 INDXLK.  0.2823   \n",
       "6487P3  CA135087ZS68            CANADA 2011 3 1/2% 01/12/45 S  3.5000   \n",
       "650WAD  CA135087M680            CANADA 2021 1 3/4% 01/12/53 S  1.7500   \n",
       "651FLY  CA135087M763              CANADA 2021 1/2% 01/11/23 S  0.5000   \n",
       "658V0W  CA135087N266            CANADA 2021 1 1/2% 01/12/31 S  1.5000   \n",
       "\n",
       "        AMOUNT ISSUED COUPON DATES  INDEX LINKED COUP  COUPONS PER YEAR  \\\n",
       "Type                                                                      \n",
       "597973      5175000.0  01/06,01/12               4.25                 2   \n",
       "5771H1            NaN          NaN               0.00                 0   \n",
       "491970            NaN          NaN               0.00                 0   \n",
       "49197U            NaN          NaN               0.00                 0   \n",
       "49197V            NaN          NaN               0.00                 0   \n",
       "846111      5250000.0  01/06,01/12               4.25                 2   \n",
       "846564      9600000.0  01/06,01/12                NaN                 2   \n",
       "610451     13900000.0  01/06,01/12                NaN                 2   \n",
       "610286      5800000.0  01/06,01/12               4.00                 2   \n",
       "248402      5850000.0  01/06,01/12               3.00                 2   \n",
       "491986            NaN          NaN               0.00                 0   \n",
       "491989            NaN          NaN               0.00                 0   \n",
       "491988            NaN          NaN               0.00                 0   \n",
       "491985            NaN          NaN               0.00                 0   \n",
       "49199C            NaN          NaN               0.00                 0   \n",
       "491987            NaN          NaN               0.00                 0   \n",
       "46269V     13999090.0  01/06,01/12                NaN                 2   \n",
       "97059Q      6550000.0  01/06,01/12               2.00                 2   \n",
       "2180M7     15800000.0  01/06,01/12                NaN                 2   \n",
       "3925TN     13100000.0  01/06,01/12                NaN                 2   \n",
       "5653HV      7700000.0  01/06,01/12               1.50                 2   \n",
       "5694XD     11500000.0  01/06,01/12                NaN                 2   \n",
       "6561K8     12700000.0  01/06,01/12                NaN                 2   \n",
       "8118P5     14200000.0  01/06,01/12                NaN                 2   \n",
       "787NK8      7700000.0  01/06,01/12               1.25                 2   \n",
       "849UMH      7600000.0  01/06,01/12               0.50                 2   \n",
       "853J3Z     15600000.0  01/05,01/11                NaN                 2   \n",
       "860K02     51816530.0  01/06,01/12                NaN                 2   \n",
       "2360RY     12000000.0  01/05,01/11                NaN                 2   \n",
       "615GG0     37000000.0  01/05,01/11                NaN                 2   \n",
       "794D5D     14900000.0  01/06,01/12                NaN                 2   \n",
       "645HW9      2100000.0  01/06,01/12               0.25                 2   \n",
       "6487P3     16400000.0  01/06,01/12                NaN                 2   \n",
       "650WAD     32000000.0  01/06,01/12                NaN                 2   \n",
       "651FLY     16500000.0  01/05,01/11                NaN                 2   \n",
       "658V0W     32000000.0  01/06,01/12                NaN                 2   \n",
       "\n",
       "        1ST COUPON VALUE  OTHER YIELD  RED. YIELD CURRENCY  \\\n",
       "Type                                                         \n",
       "597973           2.02600       -3.635         NaN       C$   \n",
       "5771H1           0.00000          NaN         NaN       C$   \n",
       "491970           0.00000          NaN         NaN       C$   \n",
       "49197U           0.00000          NaN         NaN       C$   \n",
       "49197V           0.00000          NaN         NaN       C$   \n",
       "846111           2.06100        2.241         NaN       C$   \n",
       "846564           0.67940          NaN      4.0334       C$   \n",
       "610451           1.87470          NaN      3.8772       C$   \n",
       "610286           0.93150        2.129         NaN       C$   \n",
       "248402           1.43840        2.100         NaN       C$   \n",
       "491986           0.00000          NaN         NaN       C$   \n",
       "491989           0.00000          NaN         NaN       C$   \n",
       "491988           0.00000          NaN         NaN       C$   \n",
       "491985           0.00000          NaN         NaN       C$   \n",
       "49199C           0.00000          NaN         NaN       C$   \n",
       "491987           0.00000          NaN         NaN       C$   \n",
       "46269V           1.84930          NaN      3.9023       C$   \n",
       "97059Q           0.98630        2.122         NaN       C$   \n",
       "2180M7           1.91780          NaN      3.7934       C$   \n",
       "3925TN           0.80550          NaN         NaN       C$   \n",
       "5653HV           0.00411        2.082         NaN       C$   \n",
       "5694XD           1.20210          NaN         NaN       C$   \n",
       "6561K8           0.91160          NaN         NaN       C$   \n",
       "8118P5           0.50960          NaN         NaN       C$   \n",
       "787NK8           0.61990        2.009         NaN       C$   \n",
       "849UMH           0.24520        1.921         NaN       C$   \n",
       "853J3Z           0.28080          NaN         NaN       C$   \n",
       "860K02           0.88220          NaN      3.6661       C$   \n",
       "2360RY           0.28770          NaN         NaN       C$   \n",
       "615GG0           0.05205          NaN         NaN       C$   \n",
       "794D5D           1.37120          NaN      3.6811       C$   \n",
       "645HW9           0.12330        1.830         NaN       C$   \n",
       "6487P3           1.63970          NaN      3.7310       C$   \n",
       "650WAD           0.57530          NaN      3.6372       C$   \n",
       "651FLY           0.11510          NaN         NaN       C$   \n",
       "658V0W           0.15210          NaN      3.8959       C$   \n",
       "\n",
       "                 ISSUE DATE        MATURITY YEAR           START YEAR  ACTIVE  \\\n",
       "Type                                                                            \n",
       "597973  1991-12-10 00:00:00                 2021                 1991    Dead   \n",
       "5771H1  1993-06-01 00:00:00                 2021                 1993    Dead   \n",
       "491970  1993-09-02 00:00:00                 2021                 1993    Dead   \n",
       "49197U  1993-09-02 00:00:00                 2019                 1993    Dead   \n",
       "49197V  1993-09-02 00:00:00                 2020                 1993    Dead   \n",
       "846111  1995-12-07 00:00:00                 2026                 1995  Active   \n",
       "846564  1996-05-01 00:00:00  2027-06-10 00:00:00  1996-05-01 00:00:00     NaN   \n",
       "610451  1998-02-02 00:00:00  2029-06-10 00:00:00  1998-02-02 00:00:00     NaN   \n",
       "610286  1999-03-08 00:00:00                 2031                 1999  Active   \n",
       "248402  2003-06-09 00:00:00                 2036                 2003  Active   \n",
       "491986  2004-02-24 00:00:00                 2021                 2004    Dead   \n",
       "491989  2004-02-24 00:00:00                 2023                 2004    Dead   \n",
       "491988  2004-02-24 00:00:00                 2022                 2004    Dead   \n",
       "491985  2004-02-24 00:00:00                 2021                 2004    Dead   \n",
       "49199C  2004-02-24 00:00:00                 2023                 2004  Active   \n",
       "491987  2004-02-24 00:00:00                 2022                 2004    Dead   \n",
       "46269V  2004-07-19 00:00:00  2037-06-10 00:00:00  2004-07-19 00:00:00     NaN   \n",
       "97059Q  2007-06-04 00:00:00                 2041                 2007  Active   \n",
       "2180M7  2008-06-09 00:00:00  2041-06-10 00:00:00  2008-06-09 00:00:00     NaN   \n",
       "3925TN  2009-09-08 00:00:00  2020-06-10 00:00:00  2009-09-08 00:00:00     NaN   \n",
       "5653HV  2010-05-31 00:00:00                 2044                 2010  Active   \n",
       "5694XD  2010-07-19 00:00:00  2021-06-10 00:00:00  2010-07-19 00:00:00     NaN   \n",
       "6561K8  2011-08-02 00:00:00  2022-06-10 00:00:00  2011-08-02 00:00:00     NaN   \n",
       "8118P5  2012-07-30 00:00:00  2023-06-10 00:00:00  2012-07-30 00:00:00     NaN   \n",
       "787NK8  2013-12-02 00:00:00                 2047                 2013  Active   \n",
       "849UMH  2017-06-05 00:00:00                 2050                 2017  Active   \n",
       "853J3Z  2017-08-11 00:00:00  2019-01-11 00:00:00  2017-08-11 00:00:00     NaN   \n",
       "860K02  2017-12-22 00:00:00  2051-02-11 00:00:00  2017-12-22 00:00:00     NaN   \n",
       "2360RY  2019-08-09 00:00:00  2021-01-11 00:00:00  2019-08-09 00:00:00     NaN   \n",
       "615GG0  2020-08-17 00:00:00  2022-01-11 00:00:00  2020-08-17 00:00:00     NaN   \n",
       "794D5D  2021-06-02 00:00:00  2048-02-11 00:00:00  2014-06-02 00:00:00     NaN   \n",
       "645HW9  2021-06-04 00:00:00                 2054                 2021  Active   \n",
       "6487P3  2021-06-13 00:00:00  2045-02-11 00:00:00  2011-06-13 00:00:00     NaN   \n",
       "650WAD  2021-08-03 00:00:00  2053-02-11 00:00:00  2021-08-03 00:00:00     NaN   \n",
       "651FLY  2021-08-09 00:00:00  2023-01-11 00:00:00  2021-08-09 00:00:00     NaN   \n",
       "658V0W  2021-10-25 00:00:00  2031-02-11 00:00:00  2021-10-25 00:00:00     NaN   \n",
       "\n",
       "            REDEMPTION DATE  REF CPI BASE TYPE   DURATION   CLASS  \n",
       "Type                                                               \n",
       "597973  2021-12-01 00:00:00      83.07713  ILB  29.975359    20y+  \n",
       "5771H1  2021-12-01 00:00:00           NaN  ILB  28.501027    20y+  \n",
       "491970  2021-12-01 00:00:00           NaN  ILB  28.246407    20y+  \n",
       "49197U  2019-12-01 00:00:00           NaN  ILB  26.246407    20y+  \n",
       "49197V  2020-06-01 00:00:00           NaN  ILB  26.748118    20y+  \n",
       "846111  2026-12-01 00:00:00      87.82571  ILB  30.983573    20y+  \n",
       "846564  2027-06-10 00:00:00           NaN  NOM  31.106776    20y+  \n",
       "610451  2029-06-10 00:00:00           NaN  NOM  31.350445    20y+  \n",
       "610286  2031-12-01 00:00:00      91.38249  ILB  32.733744    20y+  \n",
       "248402  2036-12-01 00:00:00     102.99160  ILB  33.481862    20y+  \n",
       "491986  2021-12-01 00:00:00           NaN  ILB  17.766598  10-20y  \n",
       "491989  2023-06-01 00:00:00           NaN  ILB  19.265572  10-20y  \n",
       "491988  2022-12-01 00:00:00           NaN  ILB  18.766598  10-20y  \n",
       "491985  2021-06-01 00:00:00           NaN  ILB  17.265572  10-20y  \n",
       "49199C  2023-12-01 00:00:00           NaN  ILB  19.766598  10-20y  \n",
       "491987  2022-06-01 00:00:00           NaN  ILB  18.265572  10-20y  \n",
       "46269V  2037-06-10 00:00:00           NaN  NOM  32.890486    20y+  \n",
       "97059Q  2041-12-01 00:00:00     111.21849  ILB  34.492813    20y+  \n",
       "2180M7  2041-06-10 00:00:00           NaN  NOM  33.000000    20y+  \n",
       "3925TN  2020-06-10 00:00:00           NaN  NOM  10.756331  10-20y  \n",
       "5653HV  2044-12-01 00:00:00     115.60000  ILB  34.506502    20y+  \n",
       "5694XD  2021-06-10 00:00:00           NaN  NOM  10.893224  10-20y  \n",
       "6561K8  2022-06-10 00:00:00           NaN  NOM  10.854894  10-20y  \n",
       "8118P5  2023-06-10 00:00:00           NaN  NOM  10.860370  10-20y  \n",
       "787NK8  2047-12-01 00:00:00     123.29032  ILB  33.997262    20y+  \n",
       "849UMH  2050-12-01 00:00:00     129.96667  ILB  33.490075    20y+  \n",
       "853J3Z  2019-01-11 00:00:00           NaN  NOM   1.419576    0-3y  \n",
       "860K02  2051-02-11 00:00:00           NaN  NOM  33.140315    20y+  \n",
       "2360RY  2021-01-11 00:00:00           NaN  NOM   1.425051    0-3y  \n",
       "615GG0  2022-01-11 00:00:00           NaN  NOM   1.400411    0-3y  \n",
       "794D5D  2048-02-11 00:00:00           NaN  NOM  26.696099    20y+  \n",
       "645HW9  2054-12-01 00:00:00     139.67000  ILB  33.492813    20y+  \n",
       "6487P3  2045-02-11 00:00:00           NaN  NOM  23.665982    20y+  \n",
       "650WAD  2053-02-11 00:00:00           NaN  NOM  31.526352    20y+  \n",
       "651FLY  2023-01-11 00:00:00           NaN  NOM   1.425051    0-3y  \n",
       "658V0W  2031-02-11 00:00:00           NaN  NOM   9.299110   5-10y  "
      ]
     },
     "execution_count": 2,
     "metadata": {},
     "output_type": "execute_result"
    }
   ],
   "source": [
    "from datasets import df_info\n",
    "df_info"
   ]
  },
  {
   "cell_type": "code",
   "execution_count": 41,
   "id": "39973e05-d4d4-4199-89d3-23d53979fc61",
   "metadata": {},
   "outputs": [
    {
     "data": {
      "text/html": [
       "<div>\n",
       "<style scoped>\n",
       "    .dataframe tbody tr th:only-of-type {\n",
       "        vertical-align: middle;\n",
       "    }\n",
       "\n",
       "    .dataframe tbody tr th {\n",
       "        vertical-align: top;\n",
       "    }\n",
       "\n",
       "    .dataframe thead th {\n",
       "        text-align: right;\n",
       "    }\n",
       "</style>\n",
       "<table border=\"1\" class=\"dataframe\">\n",
       "  <thead>\n",
       "    <tr style=\"text-align: right;\">\n",
       "      <th></th>\n",
       "      <th>value</th>\n",
       "    </tr>\n",
       "    <tr>\n",
       "      <th>class</th>\n",
       "      <th></th>\n",
       "    </tr>\n",
       "  </thead>\n",
       "  <tbody>\n",
       "    <tr>\n",
       "      <th>1-3y</th>\n",
       "      <td>0.761833</td>\n",
       "    </tr>\n",
       "    <tr>\n",
       "      <th>10-20y</th>\n",
       "      <td>0.505832</td>\n",
       "    </tr>\n",
       "    <tr>\n",
       "      <th>20y+</th>\n",
       "      <td>0.483179</td>\n",
       "    </tr>\n",
       "    <tr>\n",
       "      <th>3-5y</th>\n",
       "      <td>0.700117</td>\n",
       "    </tr>\n",
       "  </tbody>\n",
       "</table>\n",
       "</div>"
      ],
      "text/plain": [
       "           value\n",
       "class           \n",
       "1-3y    0.761833\n",
       "10-20y  0.505832\n",
       "20y+    0.483179\n",
       "3-5y    0.700117"
      ]
     },
     "execution_count": 41,
     "metadata": {},
     "output_type": "execute_result"
    }
   ],
   "source": [
    "df[[\"value\",\"class\"]].groupby(by=\"class\",).mean()"
   ]
  },
  {
   "cell_type": "markdown",
   "id": "6d12a479-4eaf-49cd-b4ef-10e65e9f3132",
   "metadata": {},
   "source": [
    "# Expected Inflation"
   ]
  },
  {
   "cell_type": "code",
   "execution_count": 88,
   "id": "436a5852-0eaf-4c29-97ee-9de94659e418",
   "metadata": {},
   "outputs": [
    {
     "data": {
      "text/html": [
       "<div>\n",
       "<style scoped>\n",
       "    .dataframe tbody tr th:only-of-type {\n",
       "        vertical-align: middle;\n",
       "    }\n",
       "\n",
       "    .dataframe tbody tr th {\n",
       "        vertical-align: top;\n",
       "    }\n",
       "\n",
       "    .dataframe thead th {\n",
       "        text-align: right;\n",
       "    }\n",
       "</style>\n",
       "<table border=\"1\" class=\"dataframe\">\n",
       "  <thead>\n",
       "    <tr style=\"text-align: right;\">\n",
       "      <th></th>\n",
       "      <th>yield spread</th>\n",
       "    </tr>\n",
       "    <tr>\n",
       "      <th>date</th>\n",
       "      <th></th>\n",
       "    </tr>\n",
       "  </thead>\n",
       "  <tbody>\n",
       "    <tr>\n",
       "      <th>1993-01-01</th>\n",
       "      <td>0.039</td>\n",
       "    </tr>\n",
       "    <tr>\n",
       "      <th>1993-02-01</th>\n",
       "      <td>0.036</td>\n",
       "    </tr>\n",
       "    <tr>\n",
       "      <th>1993-03-01</th>\n",
       "      <td>0.037</td>\n",
       "    </tr>\n",
       "    <tr>\n",
       "      <th>1993-04-01</th>\n",
       "      <td>0.037</td>\n",
       "    </tr>\n",
       "    <tr>\n",
       "      <th>1993-05-01</th>\n",
       "      <td>0.038</td>\n",
       "    </tr>\n",
       "    <tr>\n",
       "      <th>...</th>\n",
       "      <td>...</td>\n",
       "    </tr>\n",
       "    <tr>\n",
       "      <th>2023-05-01</th>\n",
       "      <td>0.018</td>\n",
       "    </tr>\n",
       "    <tr>\n",
       "      <th>2023-06-01</th>\n",
       "      <td>0.017</td>\n",
       "    </tr>\n",
       "    <tr>\n",
       "      <th>2023-07-01</th>\n",
       "      <td>0.017</td>\n",
       "    </tr>\n",
       "    <tr>\n",
       "      <th>2023-08-01</th>\n",
       "      <td>0.017</td>\n",
       "    </tr>\n",
       "    <tr>\n",
       "      <th>2023-09-01</th>\n",
       "      <td>0.018</td>\n",
       "    </tr>\n",
       "  </tbody>\n",
       "</table>\n",
       "<p>369 rows × 1 columns</p>\n",
       "</div>"
      ],
      "text/plain": [
       "            yield spread\n",
       "date                    \n",
       "1993-01-01         0.039\n",
       "1993-02-01         0.036\n",
       "1993-03-01         0.037\n",
       "1993-04-01         0.037\n",
       "1993-05-01         0.038\n",
       "...                  ...\n",
       "2023-05-01         0.018\n",
       "2023-06-01         0.017\n",
       "2023-07-01         0.017\n",
       "2023-08-01         0.017\n",
       "2023-09-01         0.018\n",
       "\n",
       "[369 rows x 1 columns]"
      ]
     },
     "execution_count": 88,
     "metadata": {},
     "output_type": "execute_result"
    }
   ],
   "source": [
    "import pandas as pd\n",
    "df = pd.read_csv(\"data/inflation_expectations_and_bei.csv\")\n",
    "inflation_expectations = df.drop(columns=[\"INDINF_INFEXP_BOND_G\"])\n",
    "inflation_expectations.dropna(inplace=True)\n",
    "inflation_expectations.index = pd.DatetimeIndex(data=inflation_expectations[\"date\"])\n",
    "inflation_expectations.drop(columns=[\"date\"],inplace=True)\n",
    "inflation_expectations.columns=[\"2-3y ahead\",\"6-10y ahead\"]\n",
    "inflation_expectations = inflation_expectations/100\n",
    "inflation_expectations = inflation_expectations.resample(\"MS\").ffill() #upsample from quaterly to monthly data\n",
    "inflation_expectations\n",
    "\n",
    "yield_spread = df.loc[:,[\"date\",\"INDINF_INFEXP_BOND_G\"]]\n",
    "yield_spread.dropna(inplace=True)\n",
    "yield_spread.index = pd.DatetimeIndex(yield_spread[\"date\"])\n",
    "yield_spread.drop(columns=[\"date\"],inplace=True)\n",
    "yield_spread = yield_spread/100\n",
    "yield_spread.columns = [\"yield spread\"]\n",
    "yield_spread"
   ]
  },
  {
   "cell_type": "code",
   "execution_count": 91,
   "id": "905c61b3-4f3b-439e-b704-a96fecd3b9ac",
   "metadata": {},
   "outputs": [],
   "source": [
    "from datasets import inflation_expectations"
   ]
  },
  {
   "cell_type": "code",
   "execution_count": 93,
   "id": "5e7a64f0-6a27-451c-a5ec-cdd592216268",
   "metadata": {},
   "outputs": [
    {
     "data": {
      "text/plain": [
       "<Axes: xlabel='date'>"
      ]
     },
     "execution_count": 93,
     "metadata": {},
     "output_type": "execute_result"
    },
    {
     "data": {
      "image/png": "[encoded data removed]",
      "text/plain": [
       "<Figure size 640x480 with 1 Axes>"
      ]
     },
     "metadata": {},
     "output_type": "display_data"
    }
   ],
   "source": [
    "inflation_expectations.plot()"
   ]
  },
  {
   "cell_type": "code",
   "execution_count": 6,
   "id": "4aeae860-f1ad-49d1-885c-9351e3a8455b",
   "metadata": {},
   "outputs": [
    {
     "name": "stdout",
     "output_type": "stream",
     "text": [
      "1 | My Bond | 4\n",
      "03/01/95 - 01/06/23\n"
     ]
    }
   ],
   "source": [
    "import pandas as pd\n",
    "from bond import Bond\n",
    "\n",
    "issue_date= pd.Timestamp(\"1995-01-03\")\n",
    "redem_date = pd.Timestamp(\"2023-06-01\")\n",
    "coupon = 4\n",
    "\n",
    "bond = Bond(issue_date,redem_date,coupon,coupon_freq=[\"AS-JUN\",\"AS-DEC\"],id = 1, name=\"My Bond\")\n",
    "print(bond)"
   ]
  },
  {
   "cell_type": "code",
   "execution_count": 8,
   "id": "29f1b8ef-d257-4bab-b45b-b1ca9f79ff68",
   "metadata": {},
   "outputs": [
    {
     "name": "stdout",
     "output_type": "stream",
     "text": [
      "2020-05-01   -101.665753\n",
      "2020-06-01      2.000000\n",
      "2020-12-01      2.000000\n",
      "2021-06-01      2.000000\n",
      "2021-12-01      2.000000\n",
      "2022-06-01      2.000000\n",
      "2022-12-01      2.000000\n",
      "2023-06-01    102.000000\n",
      "dtype: float64\n"
     ]
    }
   ],
   "source": [
    "eval_date = pd.Timestamp(\"2020-05-01\")\n",
    "print(bond.cashflows(eval_date,100))"
   ]
  },
  {
   "cell_type": "code",
   "execution_count": 9,
   "id": "569063fd-7b13-4c09-906a-c3965585d133",
   "metadata": {},
   "outputs": [
    {
     "name": "stdout",
     "output_type": "stream",
     "text": [
      "0.04036955901174215\n"
     ]
    }
   ],
   "source": [
    "print(bond.ytm(eval_date,100))"
   ]
  },
  {
   "cell_type": "code",
   "execution_count": 17,
   "id": "69a6a15f-354a-4cfb-8237-a34f394f6b94",
   "metadata": {},
   "outputs": [
    {
     "name": "stdout",
     "output_type": "stream",
     "text": [
      "85.73226\n"
     ]
    }
   ],
   "source": [
    "import pandas as pd\n",
    "from cpi import RefCPI\n",
    "\n",
    "cpi = RefCPI()\n",
    "eval_date = pd.Timestamp(\"1995-01-03\")\n",
    "\n",
    "print(cpi.ref_cpi(eval_date))"
   ]
  },
  {
   "cell_type": "code",
   "execution_count": 12,
   "id": "0e5378f0-088d-4400-afd6-9c819d556ba9",
   "metadata": {},
   "outputs": [
    {
     "name": "stdout",
     "output_type": "stream",
     "text": [
      "002 | My ILB | 1.2\n",
      "03/01/95 - 01/06/23\n"
     ]
    }
   ],
   "source": [
    "import pandas as pd\n",
    "from bond import ILB\n",
    "\n",
    "issue_date= pd.Timestamp(\"1995-01-03\")\n",
    "redem_date = pd.Timestamp(\"2023-06-01\")\n",
    "coupon = 1.2\n",
    "\n",
    "ilb = ILB(issue_date,redem_date,coupon,coupon_freq=[\"AS-JUN\",\"AS-DEC\"],id = \"002\", name=\"My ILB\", cpi_base = 85.73226)\n",
    "print(ilb)"
   ]
  },
  {
   "cell_type": "code",
   "execution_count": 13,
   "id": "25a9bac4-77fa-4d62-b337-b87034533750",
   "metadata": {},
   "outputs": [
    {
     "name": "stdout",
     "output_type": "stream",
     "text": [
      "1995-01-03    1.00000\n",
      "1995-06-01    1.01712\n",
      "1995-12-01    1.02412\n",
      "1996-06-01    1.03228\n",
      "1996-12-01    1.03928\n",
      "dtype: float64\n"
     ]
    }
   ],
   "source": [
    "print(ilb.index_ratios.head())"
   ]
  }
 ],
 "metadata": {
  "kernelspec": {
   "display_name": "Python 3 (ipykernel)",
   "language": "python",
   "name": "python3"
  },
  "language_info": {
   "codemirror_mode": {
    "name": "ipython",
    "version": 3
   },
   "file_extension": ".py",
   "mimetype": "text/x-python",
   "name": "python",
   "nbconvert_exporter": "python",
   "pygments_lexer": "ipython3",
   "version": "3.11.6"
  },
  "widgets": {
   "application/vnd.jupyter.widget-state+json": {
    "state": {},
    "version_major": 2,
    "version_minor": 0
   }
  }
 },
 "nbformat": 4,
 "nbformat_minor": 5
}
