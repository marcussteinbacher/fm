{
 "cells": [
  {
   "cell_type": "code",
   "execution_count": 3,
   "id": "39339a74-d858-4506-addd-b668e9e925d0",
   "metadata": {},
   "outputs": [
    {
     "name": "stdout",
     "output_type": "stream",
     "text": [
      "01/06,01/12  ->  ['AS-JUN', 'AS-DEC']\n",
      "01/06,01/12  ->  ['AS-JUN', 'AS-DEC']\n",
      "01/06,01/12  ->  ['AS-JUN', 'AS-DEC']\n",
      "01/06,01/12  ->  ['AS-JUN', 'AS-DEC']\n",
      "01/06,01/12  ->  ['AS-JUN', 'AS-DEC']\n",
      "01/06,01/12  ->  ['AS-JUN', 'AS-DEC']\n",
      "01/06,01/12  ->  ['AS-JUN', 'AS-DEC']\n",
      "01/06,01/12  ->  ['AS-JUN', 'AS-DEC']\n",
      "nan  ->  []\n",
      "01/06,01/12  ->  ['AS-JUN', 'AS-DEC']\n",
      "nan  ->  []\n",
      "nan  ->  []\n",
      "nan  ->  []\n",
      "nan  ->  []\n",
      "nan  ->  []\n",
      "nan  ->  []\n",
      "nan  ->  []\n",
      "nan  ->  []\n",
      "nan  ->  []\n",
      "01/06,01/12  ->  ['AS-JUN', 'AS-DEC']\n",
      "01/06,01/12  ->  ['AS-JUN', 'AS-DEC']\n",
      "01/06,01/12  ->  ['AS-JUN', 'AS-DEC']\n",
      "01/06,01/12  ->  ['AS-JUN', 'AS-DEC']\n",
      "01/06,01/12  ->  ['AS-JUN', 'AS-DEC']\n",
      "01/06,01/12  ->  ['AS-JUN', 'AS-DEC']\n",
      "01/06,01/12  ->  ['AS-JUN', 'AS-DEC']\n",
      "01/06,01/12  ->  ['AS-JUN', 'AS-DEC']\n",
      "01/06,01/12  ->  ['AS-JUN', 'AS-DEC']\n",
      "01/05,01/11  ->  ['AS-MAY', 'AS-NOV']\n",
      "01/06,01/12  ->  ['AS-JUN', 'AS-DEC']\n",
      "01/06,01/12  ->  ['AS-JUN', 'AS-DEC']\n",
      "01/06,01/12  ->  ['AS-JUN', 'AS-DEC']\n",
      "01/06,01/12  ->  ['AS-JUN', 'AS-DEC']\n",
      "01/05,01/11  ->  ['AS-MAY', 'AS-NOV']\n",
      "01/05,01/11  ->  ['AS-MAY', 'AS-NOV']\n",
      "01/05,01/11  ->  ['AS-MAY', 'AS-NOV']\n"
     ]
    }
   ],
   "source": [
    "import pandas as pd\n",
    "import numpy as np\n",
    "from datasets import df_info\n",
    "\n",
    "def parse_coupon_dates(s:str,format=\"%d/%m\",sep=\",\")->str:\n",
    "    vals = [\"JAN\",\"FEB\",\"MAR\",\"APR\",\"MAY\",\"JUN\",\"JUL\",\"AUG\",\"SEP\",\"OCT\",\"NOV\",\"DEC\"]\n",
    "    trans_dict = {k:v for k,v in enumerate(vals,start=1)}\n",
    "    months = []\n",
    "    if s and type(s)==str: #wenn leer, dann ist np.nan, aber bool(np.nan) = True\n",
    "        for cp_dt in s.split(sep):\n",
    "            ts = pd.to_datetime(cp_dt,format=format)\n",
    "            months.append(\"AS-\"+trans_dict[ts.month])\n",
    "    return months\n",
    "\n",
    "vals = df_info.loc[:,\"COUPON DATES\"].values\n",
    "for val in vals:\n",
    "     print(val,\" -> \", parse_coupon_dates(val))"
   ]
  },
  {
   "cell_type": "code",
   "execution_count": 20,
   "id": "e229a216-0492-4268-83d7-72374fb610c5",
   "metadata": {},
   "outputs": [
    {
     "data": {
      "text/plain": [
       "REF_DATE\n",
       "1991-01-01     82.0\n",
       "1991-02-01     82.0\n",
       "1991-03-01     82.3\n",
       "1991-04-01     82.3\n",
       "1991-05-01     82.7\n",
       "              ...  \n",
       "2023-05-01    157.0\n",
       "2023-06-01    157.2\n",
       "2023-07-01    158.1\n",
       "2023-08-01    158.7\n",
       "2023-09-01    158.5\n",
       "Name: VALUE, Length: 393, dtype: float64"
      ]
     },
     "execution_count": 20,
     "metadata": {},
     "output_type": "execute_result"
    }
   ],
   "source": [
    "from cpi import RefCPI\n",
    "\n",
    "cpi = RefCPI()\n",
    "cpi.series"
   ]
  },
  {
   "cell_type": "code",
   "execution_count": 35,
   "id": "623ce9bc-412d-437c-912c-4d6c59571afa",
   "metadata": {},
   "outputs": [
    {
     "name": "stderr",
     "output_type": "stream",
     "text": [
      "  0%|                                                                                                                                  | 0/27 [00:00<?, ?it/s]"
     ]
    },
    {
     "name": "stdout",
     "output_type": "stream",
     "text": [
      "EVALUATING: 597973\n",
      "597973 :  2021-11-29 :  Failed to converge after 50 iterations, value is 6.942429510285882e+42.\n",
      "597973 :  2021-11-30 :  Failed to converge after 50 iterations, value is 2.794406556474315e+71.\n",
      "597973 :  2021-12-01 :  Tolerance of 0.0001 reached. Failed to converge after 1 iterations, value is 0.0001.\n"
     ]
    },
    {
     "name": "stderr",
     "output_type": "stream",
     "text": [
      "  4%|████▌                                                                                                                     | 1/27 [01:26<37:30, 86.54s/it]"
     ]
    },
    {
     "name": "stdout",
     "output_type": "stream",
     "text": [
      "597973 :  2021-11-29 :  Failed to converge after 50 iterations, value is 6.942429510285882e+42.\n",
      "597973 :  2021-11-30 :  Failed to converge after 50 iterations, value is 2.794406556474315e+71.\n",
      "597973 :  2021-12-01 :  Tolerance of 0.0001 reached. Failed to converge after 1 iterations, value is 0.0001.\n",
      "EVALUATING: 49197V\n",
      "49197V :  2020-06-01 :  Tolerance of 0.0001 reached. Failed to converge after 1 iterations, value is 0.0001.\n"
     ]
    },
    {
     "name": "stderr",
     "output_type": "stream",
     "text": [
      "  7%|█████████                                                                                                                 | 2/27 [01:43<19:07, 45.89s/it]"
     ]
    },
    {
     "name": "stdout",
     "output_type": "stream",
     "text": [
      "49197V :  2020-06-01 :  Tolerance of 0.0001 reached. Failed to converge after 1 iterations, value is 0.0001.\n",
      "EVALUATING: 491985\n",
      "491985 :  2021-05-31 :  Failed to converge after 50 iterations, value is 7.643863247076988e+47.\n",
      "491985 :  2021-06-01 :  Tolerance of 0.0001 reached. Failed to converge after 1 iterations, value is 0.0001.\n"
     ]
    },
    {
     "name": "stderr",
     "output_type": "stream",
     "text": [
      " 11%|█████████████▌                                                                                                            | 3/27 [02:11<14:57, 37.38s/it]"
     ]
    },
    {
     "name": "stdout",
     "output_type": "stream",
     "text": [
      "491985 :  2021-05-31 :  Failed to converge after 50 iterations, value is 7.643863247076988e+47.\n",
      "491985 :  2021-06-01 :  Tolerance of 0.0001 reached. Failed to converge after 1 iterations, value is 0.0001.\n",
      "EVALUATING: 491987\n",
      "491987 :  2022-05-31 :  Failed to converge after 50 iterations, value is 3.861060618166953e+54.\n",
      "491987 :  2022-06-01 :  Tolerance of 0.0001 reached. Failed to converge after 1 iterations, value is 0.0001.\n"
     ]
    },
    {
     "name": "stderr",
     "output_type": "stream",
     "text": [
      " 15%|██████████████████                                                                                                        | 4/27 [02:39<12:57, 33.79s/it]"
     ]
    },
    {
     "name": "stdout",
     "output_type": "stream",
     "text": [
      "491987 :  2022-05-31 :  Failed to converge after 50 iterations, value is 3.861060618166953e+54.\n",
      "491987 :  2022-06-01 :  Tolerance of 0.0001 reached. Failed to converge after 1 iterations, value is 0.0001.\n",
      "EVALUATING: 491989\n",
      "491989 :  2023-05-31 :  Failed to converge after 50 iterations, value is 3.0352575243824747e+62.\n",
      "491989 :  2023-06-01 :  Tolerance of 0.0001 reached. Failed to converge after 1 iterations, value is 0.0001.\n"
     ]
    },
    {
     "name": "stderr",
     "output_type": "stream",
     "text": [
      " 19%|██████████████████████▌                                                                                                   | 5/27 [03:10<11:57, 32.63s/it]"
     ]
    },
    {
     "name": "stdout",
     "output_type": "stream",
     "text": [
      "491989 :  2023-05-31 :  Failed to converge after 50 iterations, value is 3.0352575243824747e+62.\n",
      "491989 :  2023-06-01 :  Tolerance of 0.0001 reached. Failed to converge after 1 iterations, value is 0.0001.\n",
      "EVALUATING: 49197U\n"
     ]
    },
    {
     "name": "stderr",
     "output_type": "stream",
     "text": [
      " 22%|███████████████████████████                                                                                               | 6/27 [03:33<10:21, 29.61s/it]"
     ]
    },
    {
     "name": "stdout",
     "output_type": "stream",
     "text": [
      "EVALUATING: 491986\n",
      "491986 :  2021-11-30 :  Failed to converge after 50 iterations, value is 4.3162985907174586e+51.\n",
      "491986 :  2021-12-01 :  Tolerance of 0.0001 reached. Failed to converge after 1 iterations, value is 0.0001.\n"
     ]
    },
    {
     "name": "stderr",
     "output_type": "stream",
     "text": [
      " 26%|███████████████████████████████▋                                                                                          | 7/27 [03:59<09:29, 28.45s/it]"
     ]
    },
    {
     "name": "stdout",
     "output_type": "stream",
     "text": [
      "491986 :  2021-11-30 :  Failed to converge after 50 iterations, value is 4.3162985907174586e+51.\n",
      "491986 :  2021-12-01 :  Tolerance of 0.0001 reached. Failed to converge after 1 iterations, value is 0.0001.\n",
      "EVALUATING: 491970\n",
      "491970 :  2021-11-30 :  Failed to converge after 50 iterations, value is 3.5071013922812576e+70.\n",
      "491970 :  2021-12-01 :  Tolerance of 0.0001 reached. Failed to converge after 1 iterations, value is 0.0001.\n"
     ]
    },
    {
     "name": "stderr",
     "output_type": "stream",
     "text": [
      " 30%|████████████████████████████████████▏                                                                                     | 8/27 [04:27<08:58, 28.34s/it]"
     ]
    },
    {
     "name": "stdout",
     "output_type": "stream",
     "text": [
      "491970 :  2021-11-30 :  Failed to converge after 50 iterations, value is 3.5071013922812576e+70.\n",
      "491970 :  2021-12-01 :  Tolerance of 0.0001 reached. Failed to converge after 1 iterations, value is 0.0001.\n",
      "EVALUATING: 491988\n",
      "491988 :  2022-11-30 :  Failed to converge after 50 iterations, value is 5.8497321337335036e+60.\n",
      "491988 :  2022-12-01 :  Tolerance of 0.0001 reached. Failed to converge after 1 iterations, value is 0.0001.\n"
     ]
    },
    {
     "name": "stderr",
     "output_type": "stream",
     "text": [
      " 33%|████████████████████████████████████████▋                                                                                 | 9/27 [05:02<09:02, 30.14s/it]"
     ]
    },
    {
     "name": "stdout",
     "output_type": "stream",
     "text": [
      "491988 :  2022-11-30 :  Failed to converge after 50 iterations, value is 5.8497321337335036e+60.\n",
      "491988 :  2022-12-01 :  Tolerance of 0.0001 reached. Failed to converge after 1 iterations, value is 0.0001.\n",
      "EVALUATING: 5771H1\n",
      "5771H1 :  2021-11-29 :  Failed to converge after 50 iterations, value is 5.298662378626234e+47.\n",
      "5771H1 :  2021-11-30 :  Failed to converge after 50 iterations, value is 1.753347148893134e+74.\n",
      "5771H1 :  2021-12-01 :  Tolerance of 0.0001 reached. Failed to converge after 1 iterations, value is 0.0001.\n"
     ]
    },
    {
     "name": "stderr",
     "output_type": "stream",
     "text": [
      " 37%|████████████████████████████████████████████▊                                                                            | 10/27 [05:22<07:43, 27.26s/it]"
     ]
    },
    {
     "name": "stdout",
     "output_type": "stream",
     "text": [
      "5771H1 :  2021-11-29 :  Failed to converge after 50 iterations, value is 5.298662378626234e+47.\n",
      "5771H1 :  2021-11-30 :  Failed to converge after 50 iterations, value is 1.753347148893134e+74.\n",
      "5771H1 :  2021-12-01 :  Tolerance of 0.0001 reached. Failed to converge after 1 iterations, value is 0.0001.\n",
      "EVALUATING: 846564\n"
     ]
    },
    {
     "name": "stderr",
     "output_type": "stream",
     "text": [
      " 41%|█████████████████████████████████████████████████▎                                                                       | 11/27 [08:49<21:55, 82.21s/it]"
     ]
    },
    {
     "name": "stdout",
     "output_type": "stream",
     "text": [
      "EVALUATING: 610451\n"
     ]
    },
    {
     "name": "stderr",
     "output_type": "stream",
     "text": [
      " 44%|█████████████████████████████████████████████████████▎                                                                  | 12/27 [13:30<35:38, 142.59s/it]"
     ]
    },
    {
     "name": "stdout",
     "output_type": "stream",
     "text": [
      "EVALUATING: 46269V\n"
     ]
    },
    {
     "name": "stderr",
     "output_type": "stream",
     "text": [
      " 48%|█████████████████████████████████████████████████████████▊                                                              | 13/27 [16:39<36:31, 156.54s/it]"
     ]
    },
    {
     "name": "stdout",
     "output_type": "stream",
     "text": [
      "EVALUATING: 2180M7\n"
     ]
    },
    {
     "name": "stderr",
     "output_type": "stream",
     "text": [
      " 52%|██████████████████████████████████████████████████████████████▏                                                         | 14/27 [19:05<33:15, 153.51s/it]"
     ]
    },
    {
     "name": "stdout",
     "output_type": "stream",
     "text": [
      "EVALUATING: 6487P3\n"
     ]
    },
    {
     "name": "stderr",
     "output_type": "stream",
     "text": [
      " 56%|██████████████████████████████████████████████████████████████████▋                                                     | 15/27 [21:18<29:26, 147.22s/it]"
     ]
    },
    {
     "name": "stdout",
     "output_type": "stream",
     "text": [
      "EVALUATING: 794D5D\n"
     ]
    },
    {
     "name": "stderr",
     "output_type": "stream",
     "text": [
      " 59%|███████████████████████████████████████████████████████████████████████                                                 | 16/27 [23:06<24:51, 135.63s/it]"
     ]
    },
    {
     "name": "stdout",
     "output_type": "stream",
     "text": [
      "EVALUATING: 860K02\n"
     ]
    },
    {
     "name": "stderr",
     "output_type": "stream",
     "text": [
      " 63%|███████████████████████████████████████████████████████████████████████████▌                                            | 17/27 [24:10<18:59, 113.99s/it]"
     ]
    },
    {
     "name": "stdout",
     "output_type": "stream",
     "text": [
      "EVALUATING: 650WAD\n"
     ]
    },
    {
     "name": "stderr",
     "output_type": "stream",
     "text": [
      " 67%|████████████████████████████████████████████████████████████████████████████████▋                                        | 18/27 [24:37<13:09, 87.70s/it]"
     ]
    },
    {
     "name": "stdout",
     "output_type": "stream",
     "text": [
      "EVALUATING: 658V0W\n"
     ]
    },
    {
     "name": "stderr",
     "output_type": "stream",
     "text": [
      " 70%|█████████████████████████████████████████████████████████████████████████████████████▏                                   | 19/27 [24:50<08:44, 65.54s/it]"
     ]
    },
    {
     "name": "stdout",
     "output_type": "stream",
     "text": [
      "EVALUATING: 651FLY\n",
      "651FLY :  2023-01-11 :  Tolerance of 0.0001 reached. Failed to converge after 1 iterations, value is 0.0001.\n"
     ]
    },
    {
     "name": "stderr",
     "output_type": "stream",
     "text": [
      " 74%|█████████████████████████████████████████████████████████████████████████████████████████▋                               | 20/27 [24:58<05:36, 48.10s/it]"
     ]
    },
    {
     "name": "stdout",
     "output_type": "stream",
     "text": [
      "651FLY :  2023-01-11 :  Tolerance of 0.0001 reached. Failed to converge after 1 iterations, value is 0.0001.\n",
      "EVALUATING: 3925TN\n"
     ]
    },
    {
     "name": "stderr",
     "output_type": "stream",
     "text": [
      " 78%|██████████████████████████████████████████████████████████████████████████████████████████████                           | 21/27 [26:26<06:00, 60.01s/it]"
     ]
    },
    {
     "name": "stdout",
     "output_type": "stream",
     "text": [
      "EVALUATING: 5694XD\n"
     ]
    },
    {
     "name": "stderr",
     "output_type": "stream",
     "text": [
      " 81%|██████████████████████████████████████████████████████████████████████████████████████████████████▌                      | 22/27 [27:44<05:27, 65.56s/it]"
     ]
    },
    {
     "name": "stdout",
     "output_type": "stream",
     "text": [
      "EVALUATING: 6561K8\n"
     ]
    },
    {
     "name": "stderr",
     "output_type": "stream",
     "text": [
      " 85%|███████████████████████████████████████████████████████████████████████████████████████████████████████                  | 23/27 [29:00<04:34, 68.59s/it]"
     ]
    },
    {
     "name": "stdout",
     "output_type": "stream",
     "text": [
      "EVALUATING: 8118P5\n"
     ]
    },
    {
     "name": "stderr",
     "output_type": "stream",
     "text": [
      " 89%|███████████████████████████████████████████████████████████████████████████████████████████████████████████▌             | 24/27 [30:37<03:50, 76.99s/it]"
     ]
    },
    {
     "name": "stdout",
     "output_type": "stream",
     "text": [
      "EVALUATING: 853J3Z\n",
      "853J3Z :  2019-01-11 :  Tolerance of 0.0001 reached. Failed to converge after 1 iterations, value is 0.0001.\n"
     ]
    },
    {
     "name": "stderr",
     "output_type": "stream",
     "text": [
      " 93%|████████████████████████████████████████████████████████████████████████████████████████████████████████████████         | 25/27 [30:52<01:56, 58.41s/it]"
     ]
    },
    {
     "name": "stdout",
     "output_type": "stream",
     "text": [
      "853J3Z :  2019-01-11 :  Tolerance of 0.0001 reached. Failed to converge after 1 iterations, value is 0.0001.\n",
      "EVALUATING: 2360RY\n"
     ]
    },
    {
     "name": "stderr",
     "output_type": "stream",
     "text": [
      "/home/marcus/fm/bond.py:125: RuntimeWarning: invalid value encountered in scalar power\n",
      "  s += cf/(1+r)**(dd/days_in_year)\n"
     ]
    },
    {
     "name": "stdout",
     "output_type": "stream",
     "text": [
      "2360RY :  2021-01-07 :  Failed to converge after 50 iterations, value is nan.\n"
     ]
    },
    {
     "name": "stderr",
     "output_type": "stream",
     "text": [
      "/home/marcus/fm/bond.py:125: RuntimeWarning: invalid value encountered in scalar power\n",
      "  s += cf/(1+r)**(dd/days_in_year)\n"
     ]
    },
    {
     "name": "stdout",
     "output_type": "stream",
     "text": [
      "2360RY :  2021-01-08 :  Failed to converge after 50 iterations, value is nan.\n",
      "2360RY :  2021-01-11 :  Tolerance of 0.0001 reached. Failed to converge after 1 iterations, value is 0.0001.\n"
     ]
    },
    {
     "name": "stderr",
     "output_type": "stream",
     "text": [
      "/home/marcus/fm/bond.py:125: RuntimeWarning: invalid value encountered in scalar power\n",
      "  s += cf/(1+r)**(dd/days_in_year)\n",
      "/home/marcus/fm/bond.py:125: RuntimeWarning: invalid value encountered in scalar power\n",
      "  s += cf/(1+r)**(dd/days_in_year)\n",
      " 96%|████████████████████████████████████████████████████████████████████████████████████████████████████████████████████▌    | 26/27 [31:12<00:46, 46.92s/it]"
     ]
    },
    {
     "name": "stdout",
     "output_type": "stream",
     "text": [
      "2360RY :  2021-01-07 :  Failed to converge after 50 iterations, value is nan.\n",
      "2360RY :  2021-01-08 :  Failed to converge after 50 iterations, value is nan.\n",
      "2360RY :  2021-01-11 :  Tolerance of 0.0001 reached. Failed to converge after 1 iterations, value is 0.0001.\n",
      "EVALUATING: 615GG0\n",
      "615GG0 :  2022-01-11 :  Tolerance of 0.0001 reached. Failed to converge after 1 iterations, value is 0.0001.\n"
     ]
    },
    {
     "name": "stderr",
     "output_type": "stream",
     "text": [
      "100%|█████████████████████████████████████████████████████████████████████████████████████████████████████████████████████████| 27/27 [31:19<00:00, 69.61s/it]"
     ]
    },
    {
     "name": "stdout",
     "output_type": "stream",
     "text": [
      "615GG0 :  2022-01-11 :  Tolerance of 0.0001 reached. Failed to converge after 1 iterations, value is 0.0001.\n"
     ]
    },
    {
     "name": "stderr",
     "output_type": "stream",
     "text": [
      "\n"
     ]
    }
   ],
   "source": [
    "import pandas as pd\n",
    "from tqdm import tqdm\n",
    "from bond  import Bond,ILB\n",
    "import pickle\n",
    "\n",
    "with pd.ExcelFile(\"data/can.xlsx\") as xls:\n",
    "    df_prices = pd.read_excel(xls,\"Price\",index_col=0,parse_dates=True)\n",
    "    df_prices.columns = df_prices.columns.map(str)\n",
    "\n",
    "with pd.ExcelFile(\"data/can.xlsx\") as xls:\n",
    "    df_info = pd.read_excel(xls,\"Info\",index_col=0,dtype={\"COUPON DATE\":str,\"ISSUE DATE\":str,\"REDEMPTION DATE\":str,'START YEAR':str,'MATURITY YEAR':str})\n",
    "    df_info.index = df_info.index.map(str)\n",
    "    df_info.loc[:,\"ISSUE DATE\"] = df_info.loc[:,\"ISSUE DATE\"].map(pd.Timestamp)\n",
    "    df_info.loc[:,\"REDEMPTION DATE\"] = df_info.loc[:,\"REDEMPTION DATE\"].map(pd.Timestamp)\n",
    "\n",
    "all_bonds = df_info.index\n",
    "ilbs = df_info[df_info[\"TYPE\"]==\"ILB\"].index #nur vom typ ilb\n",
    "noms = df_info[df_info[\"TYPE\"]==\"NOM\"].index\n",
    "\n",
    "bond_objs = []\n",
    "for bond in all_bonds:\n",
    "    name = df_info.loc[bond,\"NAME\"]\n",
    "    issue_date = df_info.loc[bond,\"ISSUE DATE\"]\n",
    "    redem_date = df_info.loc[bond,\"REDEMPTION DATE\"]\n",
    "    prices = df_prices[bond]\n",
    "    coupon_dates = Bond.parse_coupon_dates(df_info.loc[bond,\"COUPON DATES\"])\n",
    "\n",
    "    if df_info.loc[bond,\"TYPE\"] == \"ILB\":\n",
    "        coupon = df_info.loc[bond,\"INDEX LINKED COUP\"]\n",
    "        ilb = ILB(issue_date,redem_date,coupon,coupon_freq=coupon_dates,id=bond,prices=prices,name=name)\n",
    "        if ilb.redem_date < ilb.max_poss_redem_date: #nur dann kann der historische cashflow und damit ytm berechnet werden\n",
    "            bond_objs.append(ilb)\n",
    "    else:\n",
    "        coupon = df_info.loc[bond,\"COUPON\"]\n",
    "        bond_objs.append(Bond(issue_date,redem_date,coupon,coupon_freq=coupon_dates,id=bond,prices=prices,name=name))\n",
    "\"\"\"\n",
    "df = pd.DataFrame() #holds only date|YTMs for every bond -> csv\n",
    "data = {} #holds yield curve dataframe date|price|TTM|YTM für jeden bond\n",
    "for bond in tqdm(bond_objs):\n",
    "     print(\"EVALUATING:\", bond.id)\n",
    "     yc = bond.yield_curve()\n",
    "     data[bond.id] = bond.yield_curve()\n",
    "     df[bond.id] = yc[\"YTM\"]\n",
    "\"\"\""
   ]
  },
  {
   "cell_type": "code",
   "execution_count": 36,
   "id": "761335c9-274e-4853-aa85-1824deeec538",
   "metadata": {},
   "outputs": [],
   "source": [
    "with open(\"export/ytm_dataframes.pickle\",\"wb\") as f:\n",
    "    pickle.dump(data,f)\n",
    "\n",
    "df.to_csv(\"export/ytms.csv\")"
   ]
  },
  {
   "cell_type": "code",
   "execution_count": 81,
   "id": "3e761d7a-648b-4dc2-9d84-baadd53eb0ca",
   "metadata": {},
   "outputs": [
    {
     "data": {
      "application/vnd.jupyter.widget-view+json": {
       "model_id": "9438de56202b406b9850922bf8a960e6",
       "version_major": 2,
       "version_minor": 0
      },
      "text/plain": [
       "Dropdown(description='Bond', options=('597973', '49197V', '491985', '491987', '491989', '49197U', '491986', '4…"
      ]
     },
     "metadata": {},
     "output_type": "display_data"
    },
    {
     "data": {
      "application/vnd.jupyter.widget-view+json": {
       "model_id": "416290e0f9aa40e2a33848d12aa4bc47",
       "version_major": 2,
       "version_minor": 0
      },
      "text/plain": [
       "Checkbox(value=False, description='log')"
      ]
     },
     "metadata": {},
     "output_type": "display_data"
    },
    {
     "data": {
      "application/vnd.jupyter.widget-view+json": {
       "model_id": "92a0bd1d3231433191a3e852d9c8a0ac",
       "version_major": 2,
       "version_minor": 0
      },
      "text/plain": [
       "Output()"
      ]
     },
     "metadata": {},
     "output_type": "display_data"
    }
   ],
   "source": [
    "import ipywidgets as widgets\n",
    "dd = widgets.Dropdown(options=df.columns,description=\"Bond\")\n",
    "log_chk = widgets.Checkbox(description=\"log\")\n",
    "\n",
    "def plot_ytm(bond:str,log:bool):\n",
    "    fig, ax = plt.subplots()\n",
    "    df_b = df[[bond]].dropna()\n",
    "    df_b[\"redem_date\"] = df_b.index.max()\n",
    "    df_b[\"TTM\"] = df_b[\"redem_date\"] - df_b.index\n",
    "    df_b[\"TTM\"] = df_b[\"TTM\"].map(lambda d: d.days)/365\n",
    "    sns.lineplot(data=df_b,x=\"TTM\",y=bond)\n",
    "    if log:\n",
    "        plt.yscale(\"log\")\n",
    "    plt.show()\n",
    "    display(df_info.loc[bond,:])\n",
    "out = widgets.interactive_output(plot_ytm, {\"bond\":dd,\"log\":log_chk})\n",
    "display(dd,log_chk,out)"
   ]
  },
  {
   "cell_type": "code",
   "execution_count": 26,
   "id": "99aa72d2-0fac-4bcf-aa7d-320022698d39",
   "metadata": {},
   "outputs": [
    {
     "name": "stdout",
     "output_type": "stream",
     "text": [
      "49197V :  2020-06-01 :  Tolerance of 0.0001 reached. Failed to converge after 1 iterations, value is 0.0001.\n"
     ]
    }
   ],
   "source": [
    "yc1 = bond_objs[1].yield_curve()"
   ]
  },
  {
   "cell_type": "code",
   "execution_count": 25,
   "id": "7110c915-77af-49f0-beb6-3775100ff082",
   "metadata": {},
   "outputs": [
    {
     "data": {
      "image/png": "[encoded data removed]",
      "text/plain": [
       "<Figure size 640x480 with 2 Axes>"
      ]
     },
     "metadata": {},
     "output_type": "display_data"
    }
   ],
   "source": [
    "import seaborn as sns\n",
    "import matplotlib.pyplot as plt\n",
    "sns.set()\n",
    "x = yc.loc[:,\"TTM\"].values\n",
    "y = yc.loc[:,\"YTM\"].values\n",
    "p = yc.loc[:,\"P\"].values\n",
    "plt.plot(x,y)\n",
    "plt.yscale(\"log\")\n",
    "plt.twinx()\n",
    "plt.plot(x,p,color=\"orange\")\n",
    "plt.show()"
   ]
  },
  {
   "cell_type": "code",
   "execution_count": 30,
   "id": "2d8e6bc0-5f8d-4780-8311-db14da790614",
   "metadata": {},
   "outputs": [],
   "source": [
    "df = pd.DataFrame()\n",
    "df[\"bond0\"] = yc[\"YTM\"]\n",
    "df[\"bond1\"] = yc1[\"YTM\"]"
   ]
  },
  {
   "cell_type": "code",
   "execution_count": 33,
   "id": "d732fa0f-882d-42bb-8ed4-377f444c3883",
   "metadata": {},
   "outputs": [
    {
     "name": "stderr",
     "output_type": "stream",
     "text": [
      "/home/marcus/miniconda3/envs/fm/lib/python3.12/site-packages/matplotlib/axis.py:1769: FutureWarning: Period with BDay freq is deprecated and will be removed in a future version. Use a DatetimeIndex with BDay freq instead.\n",
      "  ret = self.converter.convert(x, self.units, self)\n",
      "/home/marcus/miniconda3/envs/fm/lib/python3.12/site-packages/matplotlib/axis.py:1769: FutureWarning: PeriodDtype[B] is deprecated and will be removed in a future version. Use a DatetimeIndex with freq='B' instead\n",
      "  ret = self.converter.convert(x, self.units, self)\n",
      "/home/marcus/miniconda3/envs/fm/lib/python3.12/site-packages/matplotlib/axis.py:1769: FutureWarning: PeriodDtype[B] is deprecated and will be removed in a future version. Use a DatetimeIndex with freq='B' instead\n",
      "  ret = self.converter.convert(x, self.units, self)\n",
      "/home/marcus/miniconda3/envs/fm/lib/python3.12/site-packages/matplotlib/axis.py:1495: FutureWarning: Period with BDay freq is deprecated and will be removed in a future version. Use a DatetimeIndex with BDay freq instead.\n",
      "  return self.major.locator()\n",
      "/home/marcus/miniconda3/envs/fm/lib/python3.12/site-packages/matplotlib/axis.py:1495: FutureWarning: PeriodDtype[B] is deprecated and will be removed in a future version. Use a DatetimeIndex with freq='B' instead\n",
      "  return self.major.locator()\n",
      "/home/marcus/miniconda3/envs/fm/lib/python3.12/site-packages/matplotlib/ticker.py:216: FutureWarning: Period with BDay freq is deprecated and will be removed in a future version. Use a DatetimeIndex with BDay freq instead.\n",
      "  return [self(value, i) for i, value in enumerate(values)]\n"
     ]
    },
    {
     "data": {
      "image/png": "[encoded data removed]",
      "text/plain": [
       "<Figure size 640x480 with 1 Axes>"
      ]
     },
     "metadata": {},
     "output_type": "display_data"
    }
   ],
   "source": [
    "df.plot.line()\n",
    "plt.yscale(\"log\")"
   ]
  },
  {
   "cell_type": "code",
   "execution_count": 20,
   "id": "b31b24b0-5296-41cb-bf14-4953cdcce1f8",
   "metadata": {},
   "outputs": [],
   "source": [
    "import pickle\n",
    "\n",
    "with open(\"export/ytm_dataframes.pickle\",\"rb\") as f:\n",
    "    data = pickle.load(f)\n",
    "\n",
    "dfs = []\n",
    "for b,bdf in data.items():\n",
    "    bdf[b] = bdf[\"YTM\"]\n",
    "    dfs.append(bdf[b])\n",
    "ytms = pd.concat(dfs,axis=1)"
   ]
  },
  {
   "cell_type": "code",
   "execution_count": 22,
   "id": "5861553f-9548-42a1-9568-196bb5bbec62",
   "metadata": {},
   "outputs": [],
   "source": [
    "ytms.to_csv(\"export/ytms.csv\")"
   ]
  }
 ],
 "metadata": {
  "kernelspec": {
   "display_name": "Python 3 (ipykernel)",
   "language": "python",
   "name": "python3"
  },
  "language_info": {
   "codemirror_mode": {
    "name": "ipython",
    "version": 3
   },
   "file_extension": ".py",
   "mimetype": "text/x-python",
   "name": "python",
   "nbconvert_exporter": "python",
   "pygments_lexer": "ipython3",
   "version": "3.12.0"
  },
  "widgets": {
   "application/vnd.jupyter.widget-state+json": {
    "state": {},
    "version_major": 2,
    "version_minor": 0
   }
  }
 },
 "nbformat": 4,
 "nbformat_minor": 5
}
